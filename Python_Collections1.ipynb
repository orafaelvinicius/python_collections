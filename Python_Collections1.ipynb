{
  "nbformat": 4,
  "nbformat_minor": 0,
  "metadata": {
    "colab": {
      "name": "Python-Collections1.ipynb",
      "provenance": [],
      "authorship_tag": "ABX9TyORe2veD6jal0B8KDMcmck1",
      "include_colab_link": true
    },
    "kernelspec": {
      "name": "python3",
      "display_name": "Python 3"
    },
    "language_info": {
      "name": "python"
    }
  },
  "cells": [
    {
      "cell_type": "markdown",
      "metadata": {
        "id": "view-in-github",
        "colab_type": "text"
      },
      "source": [
        "<a href=\"https://colab.research.google.com/github/Jumbeba/python_collections/blob/main/Python_Collections1.ipynb\" target=\"_parent\"><img src=\"https://colab.research.google.com/assets/colab-badge.svg\" alt=\"Open In Colab\"/></a>"
      ]
    },
    {
      "cell_type": "code",
      "metadata": {
        "id": "t4RqVyrSEhts"
      },
      "source": [
        "idades = [39, 30, 27, 18]"
      ],
      "execution_count": null,
      "outputs": []
    },
    {
      "cell_type": "code",
      "metadata": {
        "colab": {
          "base_uri": "https://localhost:8080/"
        },
        "id": "Vne3SUTrEzsi",
        "outputId": "c4ce8a26-a8d8-4c21-9984-194668c59398"
      },
      "source": [
        "type(idades)"
      ],
      "execution_count": null,
      "outputs": [
        {
          "output_type": "execute_result",
          "data": {
            "text/plain": [
              "list"
            ]
          },
          "metadata": {},
          "execution_count": 11
        }
      ]
    },
    {
      "cell_type": "code",
      "metadata": {
        "colab": {
          "base_uri": "https://localhost:8080/"
        },
        "id": "1JmyOiucFCdi",
        "outputId": "f59624ff-8e23-419e-9d28-b3c097d6873e"
      },
      "source": [
        "len(idades)"
      ],
      "execution_count": null,
      "outputs": [
        {
          "output_type": "execute_result",
          "data": {
            "text/plain": [
              "4"
            ]
          },
          "metadata": {},
          "execution_count": 12
        }
      ]
    },
    {
      "cell_type": "code",
      "metadata": {
        "colab": {
          "base_uri": "https://localhost:8080/"
        },
        "id": "miUiGZsUFDFS",
        "outputId": "609831e3-4b6b-4a1c-f786-bd705bf5d117"
      },
      "source": [
        "idades[0]"
      ],
      "execution_count": null,
      "outputs": [
        {
          "output_type": "execute_result",
          "data": {
            "text/plain": [
              "39"
            ]
          },
          "metadata": {},
          "execution_count": 6
        }
      ]
    },
    {
      "cell_type": "code",
      "metadata": {
        "colab": {
          "base_uri": "https://localhost:8080/"
        },
        "id": "xRMF46dtFDLR",
        "outputId": "c829dbda-ed2d-40c0-bd10-59b8ddb7daed"
      },
      "source": [
        "idades"
      ],
      "execution_count": null,
      "outputs": [
        {
          "output_type": "execute_result",
          "data": {
            "text/plain": [
              "[39, 30, 27, 18]"
            ]
          },
          "metadata": {},
          "execution_count": 13
        }
      ]
    },
    {
      "cell_type": "code",
      "metadata": {
        "colab": {
          "base_uri": "https://localhost:8080/"
        },
        "id": "pkDarPG6FDQp",
        "outputId": "421c1824-d2be-4196-b0da-5730aaccdf8f"
      },
      "source": [
        "print(idades[1])\n",
        "print(idades[2])"
      ],
      "execution_count": null,
      "outputs": [
        {
          "output_type": "stream",
          "name": "stdout",
          "text": [
            "30\n",
            "27\n"
          ]
        }
      ]
    },
    {
      "cell_type": "code",
      "metadata": {
        "id": "4_A8cwQMFDV6"
      },
      "source": [
        "idades.append(15)"
      ],
      "execution_count": null,
      "outputs": []
    },
    {
      "cell_type": "code",
      "metadata": {
        "colab": {
          "base_uri": "https://localhost:8080/"
        },
        "id": "4CiQH7kmFgl6",
        "outputId": "7a5e0558-001d-4241-a6e9-a07b4ce827e7"
      },
      "source": [
        "idades[4]"
      ],
      "execution_count": null,
      "outputs": [
        {
          "output_type": "execute_result",
          "data": {
            "text/plain": [
              "15"
            ]
          },
          "metadata": {},
          "execution_count": 18
        }
      ]
    },
    {
      "cell_type": "code",
      "metadata": {
        "colab": {
          "base_uri": "https://localhost:8080/"
        },
        "id": "-_PoX8UPFiSy",
        "outputId": "684a3df3-b828-4701-a8cc-145033653938"
      },
      "source": [
        "for idade in idades:\n",
        "  print(idade)"
      ],
      "execution_count": null,
      "outputs": [
        {
          "output_type": "stream",
          "name": "stdout",
          "text": [
            "39\n",
            "30\n",
            "27\n",
            "18\n",
            "15\n"
          ]
        }
      ]
    },
    {
      "cell_type": "code",
      "metadata": {
        "id": "f7Pfecb1FsRz"
      },
      "source": [
        "idades.remove(30)"
      ],
      "execution_count": null,
      "outputs": []
    },
    {
      "cell_type": "code",
      "metadata": {
        "colab": {
          "base_uri": "https://localhost:8080/"
        },
        "id": "xi1v2clJFv8q",
        "outputId": "1fd2d365-d39b-4330-c8d2-b24a6a404358"
      },
      "source": [
        "idades"
      ],
      "execution_count": null,
      "outputs": [
        {
          "output_type": "execute_result",
          "data": {
            "text/plain": [
              "[39, 27, 18, 15]"
            ]
          },
          "metadata": {},
          "execution_count": 21
        }
      ]
    },
    {
      "cell_type": "code",
      "metadata": {
        "id": "eKPFcgKlFwwC"
      },
      "source": [
        "idades.append(15)"
      ],
      "execution_count": null,
      "outputs": []
    },
    {
      "cell_type": "code",
      "metadata": {
        "id": "pd0b60A9F1QS"
      },
      "source": [
        "idades.remove(15)"
      ],
      "execution_count": null,
      "outputs": []
    },
    {
      "cell_type": "code",
      "metadata": {
        "colab": {
          "base_uri": "https://localhost:8080/"
        },
        "id": "Cy_n4Pv7F7Ma",
        "outputId": "6fd76890-88b5-4f90-8a30-09d952851528"
      },
      "source": [
        "idades.append(27)\n",
        "idades.remove(27)\n",
        "idades"
      ],
      "execution_count": null,
      "outputs": [
        {
          "output_type": "execute_result",
          "data": {
            "text/plain": [
              "[39, 18, 15, 27]"
            ]
          },
          "metadata": {},
          "execution_count": 25
        }
      ]
    },
    {
      "cell_type": "code",
      "metadata": {
        "id": "rqovHiMFGCvL"
      },
      "source": [
        "idades.clear()"
      ],
      "execution_count": null,
      "outputs": []
    },
    {
      "cell_type": "code",
      "metadata": {
        "colab": {
          "base_uri": "https://localhost:8080/"
        },
        "id": "1GIV1Oc9GPSq",
        "outputId": "56f830c0-ece9-48fc-e61b-76f1d9bab834"
      },
      "source": [
        "idade"
      ],
      "execution_count": null,
      "outputs": [
        {
          "output_type": "execute_result",
          "data": {
            "text/plain": [
              "15"
            ]
          },
          "metadata": {},
          "execution_count": 27
        }
      ]
    },
    {
      "cell_type": "code",
      "metadata": {
        "colab": {
          "base_uri": "https://localhost:8080/"
        },
        "id": "pcnHpm0bGP7K",
        "outputId": "cdc9fdfc-94b5-4493-d797-420bd61835da"
      },
      "source": [
        "idades"
      ],
      "execution_count": null,
      "outputs": [
        {
          "output_type": "execute_result",
          "data": {
            "text/plain": [
              "[]"
            ]
          },
          "metadata": {},
          "execution_count": 28
        }
      ]
    },
    {
      "cell_type": "code",
      "metadata": {
        "colab": {
          "base_uri": "https://localhost:8080/",
          "height": 163
        },
        "id": "swprXVyvGUWq",
        "outputId": "3a64eac0-a33c-4e30-9bfc-2f8caa63dfe8"
      },
      "source": [
        "idades[2]"
      ],
      "execution_count": null,
      "outputs": [
        {
          "output_type": "error",
          "ename": "IndexError",
          "evalue": "ignored",
          "traceback": [
            "\u001b[0;31m---------------------------------------------------------------------------\u001b[0m",
            "\u001b[0;31mIndexError\u001b[0m                                Traceback (most recent call last)",
            "\u001b[0;32m<ipython-input-29-ac06dc034573>\u001b[0m in \u001b[0;36m<module>\u001b[0;34m()\u001b[0m\n\u001b[0;32m----> 1\u001b[0;31m \u001b[0midades\u001b[0m\u001b[0;34m[\u001b[0m\u001b[0;36m2\u001b[0m\u001b[0;34m]\u001b[0m\u001b[0;34m\u001b[0m\u001b[0;34m\u001b[0m\u001b[0m\n\u001b[0m",
            "\u001b[0;31mIndexError\u001b[0m: list index out of range"
          ]
        }
      ]
    },
    {
      "cell_type": "code",
      "metadata": {
        "colab": {
          "base_uri": "https://localhost:8080/"
        },
        "id": "Devpy2FCGf2K",
        "outputId": "1bee94f9-6a8a-4836-f109-7b4f2b55009d"
      },
      "source": [
        "idades"
      ],
      "execution_count": null,
      "outputs": [
        {
          "output_type": "execute_result",
          "data": {
            "text/plain": [
              "[39, 30, 27, 18]"
            ]
          },
          "metadata": {},
          "execution_count": 31
        }
      ]
    },
    {
      "cell_type": "code",
      "metadata": {
        "colab": {
          "base_uri": "https://localhost:8080/"
        },
        "id": "Y8cw3xOGGkwK",
        "outputId": "a83452a9-a005-4ed6-9dce-b620ec183b00"
      },
      "source": [
        "28 in idades"
      ],
      "execution_count": null,
      "outputs": [
        {
          "output_type": "execute_result",
          "data": {
            "text/plain": [
              "False"
            ]
          },
          "metadata": {},
          "execution_count": 32
        }
      ]
    },
    {
      "cell_type": "code",
      "metadata": {
        "id": "IHG0-xRRGmHy"
      },
      "source": [
        "if 27 in idades:\n",
        "  idades.remove(27)"
      ],
      "execution_count": null,
      "outputs": []
    },
    {
      "cell_type": "code",
      "metadata": {
        "colab": {
          "base_uri": "https://localhost:8080/"
        },
        "id": "GUcW_CC4Gq0S",
        "outputId": "3b1628c1-09fb-4d9e-bb41-929075f61fe4"
      },
      "source": [
        "idades"
      ],
      "execution_count": null,
      "outputs": [
        {
          "output_type": "execute_result",
          "data": {
            "text/plain": [
              "[39, 30, 18]"
            ]
          },
          "metadata": {},
          "execution_count": 39
        }
      ]
    },
    {
      "cell_type": "code",
      "metadata": {
        "id": "1FtEUUl_Gr3K"
      },
      "source": [
        "idades.append(19)"
      ],
      "execution_count": null,
      "outputs": []
    },
    {
      "cell_type": "code",
      "metadata": {
        "id": "P0WN5GPdG2MS"
      },
      "source": [
        "idades.insert(0, 20)"
      ],
      "execution_count": null,
      "outputs": []
    },
    {
      "cell_type": "code",
      "metadata": {
        "colab": {
          "base_uri": "https://localhost:8080/"
        },
        "id": "_cR5lp8qG-Ia",
        "outputId": "f508a19a-747d-482a-b6c3-7fb3c37a4235"
      },
      "source": [
        "idades"
      ],
      "execution_count": null,
      "outputs": [
        {
          "output_type": "execute_result",
          "data": {
            "text/plain": [
              "[20, 39, 30, 18, 19]"
            ]
          },
          "metadata": {},
          "execution_count": 44
        }
      ]
    },
    {
      "cell_type": "code",
      "metadata": {
        "id": "qxTwzC7bHDEK"
      },
      "source": [
        "idades.append([27, 59])"
      ],
      "execution_count": null,
      "outputs": []
    },
    {
      "cell_type": "code",
      "metadata": {
        "colab": {
          "base_uri": "https://localhost:8080/"
        },
        "id": "KIv7rgw8HK2y",
        "outputId": "4e8c9ba0-44e2-44f4-c8e6-e7eaab29cad5"
      },
      "source": [
        "idades"
      ],
      "execution_count": null,
      "outputs": [
        {
          "output_type": "execute_result",
          "data": {
            "text/plain": [
              "[20, 39, 30, 18, 19, [27, 59]]"
            ]
          },
          "metadata": {},
          "execution_count": 47
        }
      ]
    },
    {
      "cell_type": "code",
      "metadata": {
        "colab": {
          "base_uri": "https://localhost:8080/"
        },
        "id": "XCZtflAWHOsy",
        "outputId": "fbe1987b-1d52-4c0c-aa23-cc22223ea809"
      },
      "source": [
        "for elemento in idades:\n",
        "  print(\"Recebi o elemento\", elemento)"
      ],
      "execution_count": null,
      "outputs": [
        {
          "output_type": "stream",
          "name": "stdout",
          "text": [
            "Recebi o elemento 20\n",
            "Recebi o elemento 39\n",
            "Recebi o elemento 30\n",
            "Recebi o elemento 18\n",
            "Recebi o elemento 19\n",
            "Recebi o elemento [27, 59]\n"
          ]
        }
      ]
    },
    {
      "cell_type": "code",
      "metadata": {
        "colab": {
          "base_uri": "https://localhost:8080/"
        },
        "id": "xz3b1xjeHX4C",
        "outputId": "f2c2c45e-0386-48c1-dd2c-accca55fa39a"
      },
      "source": [
        "idade = [39, 30, 18]\n",
        "idade.extend([27,19])\n",
        "idade"
      ],
      "execution_count": null,
      "outputs": [
        {
          "output_type": "execute_result",
          "data": {
            "text/plain": [
              "[39, 30, 18, 27, 19]"
            ]
          },
          "metadata": {},
          "execution_count": 51
        }
      ]
    },
    {
      "cell_type": "code",
      "metadata": {
        "colab": {
          "base_uri": "https://localhost:8080/"
        },
        "id": "s5kDG0-iHwTK",
        "outputId": "d3b21f11-90e1-437f-acb7-692ccd03c22f"
      },
      "source": [
        "idade"
      ],
      "execution_count": null,
      "outputs": [
        {
          "output_type": "execute_result",
          "data": {
            "text/plain": [
              "[39, 30, 18, 27, 19]"
            ]
          },
          "metadata": {},
          "execution_count": 52
        }
      ]
    },
    {
      "cell_type": "code",
      "metadata": {
        "colab": {
          "base_uri": "https://localhost:8080/"
        },
        "id": "lS0tNl1GHx0a",
        "outputId": "0b2ae562-c3b1-4dd2-fa9a-a1be3f2d08fe"
      },
      "source": [
        "idade\n",
        "idades"
      ],
      "execution_count": null,
      "outputs": [
        {
          "output_type": "execute_result",
          "data": {
            "text/plain": [
              "[20, 39, 30, 18, 19, [27, 59]]"
            ]
          },
          "metadata": {},
          "execution_count": 53
        }
      ]
    },
    {
      "cell_type": "code",
      "metadata": {
        "id": "ofkSpH3YHzAx"
      },
      "source": [
        "idades = None"
      ],
      "execution_count": null,
      "outputs": []
    },
    {
      "cell_type": "code",
      "metadata": {
        "id": "u0gWB9ikH79S"
      },
      "source": [
        "idades"
      ],
      "execution_count": null,
      "outputs": []
    },
    {
      "cell_type": "code",
      "metadata": {
        "id": "9CaYUFRYH3nZ"
      },
      "source": [
        "idade = idades"
      ],
      "execution_count": null,
      "outputs": []
    },
    {
      "cell_type": "code",
      "metadata": {
        "id": "Hh2qeOmPIAiJ"
      },
      "source": [
        "idades"
      ],
      "execution_count": null,
      "outputs": []
    },
    {
      "cell_type": "code",
      "metadata": {
        "id": "6Ni9irGlIBnZ"
      },
      "source": [
        "idades = [39, 30, 18, 27, 19]"
      ],
      "execution_count": null,
      "outputs": []
    },
    {
      "cell_type": "code",
      "metadata": {
        "colab": {
          "base_uri": "https://localhost:8080/"
        },
        "id": "BZp-NQ9bIEyJ",
        "outputId": "fc60a5b0-82a8-4753-a025-09c7a5b6d277"
      },
      "source": [
        "for idade in idades:\n",
        "  print(idade + 1)"
      ],
      "execution_count": null,
      "outputs": [
        {
          "output_type": "stream",
          "name": "stdout",
          "text": [
            "40\n",
            "31\n",
            "19\n",
            "28\n",
            "20\n"
          ]
        }
      ]
    },
    {
      "cell_type": "code",
      "metadata": {
        "colab": {
          "base_uri": "https://localhost:8080/"
        },
        "id": "0u8eEpI2IJt5",
        "outputId": "182fdb87-bf81-414c-c675-751a778f7072"
      },
      "source": [
        "idades_no_ano_que_vem = []\n",
        "for idade in idades:\n",
        "  idades_no_ano_que_vem.append(idade+1)\n",
        "idades_no_ano_que_vem"
      ],
      "execution_count": null,
      "outputs": [
        {
          "output_type": "execute_result",
          "data": {
            "text/plain": [
              "[40, 31, 19, 28, 20]"
            ]
          },
          "metadata": {},
          "execution_count": 62
        }
      ]
    },
    {
      "cell_type": "code",
      "metadata": {
        "colab": {
          "base_uri": "https://localhost:8080/"
        },
        "id": "YQ5kwWDUIXUR",
        "outputId": "cb333eda-968b-47a6-91ae-0279b9c6702e"
      },
      "source": [
        "idades_no_ano_que_vem = [(idade+1) for idade in idades]\n",
        "idades_no_ano_que_vem"
      ],
      "execution_count": null,
      "outputs": [
        {
          "output_type": "execute_result",
          "data": {
            "text/plain": [
              "[40, 31, 19, 28, 20]"
            ]
          },
          "metadata": {},
          "execution_count": 65
        }
      ]
    },
    {
      "cell_type": "code",
      "metadata": {
        "colab": {
          "base_uri": "https://localhost:8080/"
        },
        "id": "4t9qJRu9IdKh",
        "outputId": "cfe0c3ee-ad86-4dbd-af22-4a703527656d"
      },
      "source": [
        "def proximo_ano(idade):\n",
        "  return idade+1\n",
        "\n",
        "[proximo_ano(idade)for idade in idades if idade > 21]"
      ],
      "execution_count": null,
      "outputs": [
        {
          "output_type": "execute_result",
          "data": {
            "text/plain": [
              "[40, 31, 28]"
            ]
          },
          "metadata": {},
          "execution_count": 69
        }
      ]
    },
    {
      "cell_type": "code",
      "metadata": {
        "id": "yv4fGOyiI4fx"
      },
      "source": [
        "def faz_processamento_de_vizualizacao(lista):\n",
        "  print(len(lista))\n",
        "  lista.append(13)"
      ],
      "execution_count": null,
      "outputs": []
    },
    {
      "cell_type": "code",
      "metadata": {
        "colab": {
          "base_uri": "https://localhost:8080/"
        },
        "id": "yEoDUs19Uxz3",
        "outputId": "f0f97892-a30e-49e0-d020-86610974ad63"
      },
      "source": [
        "idades = [40, 31, 19, 28, 20]\n",
        "faz_processamento_de_vizualizacao(idades)\n",
        "idades"
      ],
      "execution_count": null,
      "outputs": [
        {
          "output_type": "stream",
          "name": "stdout",
          "text": [
            "5\n"
          ]
        },
        {
          "output_type": "execute_result",
          "data": {
            "text/plain": [
              "[40, 31, 19, 28, 20, 13]"
            ]
          },
          "metadata": {},
          "execution_count": 72
        }
      ]
    },
    {
      "cell_type": "code",
      "metadata": {
        "id": "5IqnL_IWU-jJ"
      },
      "source": [
        "def faz_processamento_de_vizualizacao(lista = []):\n",
        "  print(len(lista))\n",
        "  lista.append(13)"
      ],
      "execution_count": null,
      "outputs": []
    },
    {
      "cell_type": "code",
      "metadata": {
        "colab": {
          "base_uri": "https://localhost:8080/"
        },
        "id": "gO11IAZ0V2DR",
        "outputId": "1ca932f1-3c44-4a6a-ad16-ae0930679eb3"
      },
      "source": [
        "faz_processamento_de_vizualizacao()"
      ],
      "execution_count": null,
      "outputs": [
        {
          "output_type": "stream",
          "name": "stdout",
          "text": [
            "0\n"
          ]
        }
      ]
    },
    {
      "cell_type": "code",
      "metadata": {
        "colab": {
          "base_uri": "https://localhost:8080/"
        },
        "id": "DKt-qnIwV304",
        "outputId": "89cfdfaf-a3ef-426c-f6ac-7ef21c0e5d5a"
      },
      "source": [
        "faz_processamento_de_vizualizacao"
      ],
      "execution_count": null,
      "outputs": [
        {
          "output_type": "execute_result",
          "data": {
            "text/plain": [
              "<function __main__.faz_processamento_de_vizualizacao>"
            ]
          },
          "metadata": {},
          "execution_count": 77
        }
      ]
    },
    {
      "cell_type": "code",
      "metadata": {
        "colab": {
          "base_uri": "https://localhost:8080/"
        },
        "id": "UBBh43XnV6Fw",
        "outputId": "34927b5c-fe6b-453c-8966-bafaa6744aea"
      },
      "source": [
        "faz_processamento_de_vizualizacao()"
      ],
      "execution_count": null,
      "outputs": [
        {
          "output_type": "stream",
          "name": "stdout",
          "text": [
            "1\n"
          ]
        }
      ]
    },
    {
      "cell_type": "code",
      "metadata": {
        "id": "qlwWcpHSV7ng"
      },
      "source": [
        "def faz_processamento_de_vizualizacao(lista = None):\n",
        "  if lista == None:\n",
        "    lista = list()\n",
        "  print(len(lista))\n",
        "  print(lista)\n",
        "  lista.append(13)"
      ],
      "execution_count": null,
      "outputs": []
    },
    {
      "cell_type": "code",
      "metadata": {
        "colab": {
          "base_uri": "https://localhost:8080/"
        },
        "id": "8oC6XZ0TWIdg",
        "outputId": "b0a79385-5e4d-4618-b7d6-3c4158663b10"
      },
      "source": [
        "faz_processamento_de_vizualizacao()"
      ],
      "execution_count": null,
      "outputs": [
        {
          "output_type": "stream",
          "name": "stdout",
          "text": [
            "0\n",
            "[]\n"
          ]
        }
      ]
    },
    {
      "cell_type": "code",
      "metadata": {
        "colab": {
          "base_uri": "https://localhost:8080/"
        },
        "id": "F96Mt9SlWKew",
        "outputId": "4ac69368-22fa-4b66-87f6-06939d983097"
      },
      "source": [
        "faz_processamento_de_vizualizacao()\n"
      ],
      "execution_count": null,
      "outputs": [
        {
          "output_type": "stream",
          "name": "stdout",
          "text": [
            "0\n",
            "[]\n"
          ]
        }
      ]
    },
    {
      "cell_type": "code",
      "metadata": {
        "id": "34u0UOEOWYjw",
        "colab": {
          "base_uri": "https://localhost:8080/"
        },
        "outputId": "0c6ff510-c0fc-42ca-d9e0-816b44450c2f"
      },
      "source": [
        "faz_processamento_de_vizualizacao()"
      ],
      "execution_count": null,
      "outputs": [
        {
          "output_type": "stream",
          "name": "stdout",
          "text": [
            "0\n",
            "[]\n"
          ]
        }
      ]
    },
    {
      "cell_type": "markdown",
      "metadata": {
        "id": "gDTsiWWtXXca"
      },
      "source": [
        "# Objetos Próprios"
      ]
    },
    {
      "cell_type": "code",
      "metadata": {
        "id": "aOKuMyGBERle"
      },
      "source": [
        "class ContaCorrente:\n",
        "  def __init__(self, codigo):\n",
        "    self.codigo = codigo\n",
        "    self.saldo = 0\n",
        "\n",
        "  def deposita(self, valor):\n",
        "    self.saldo += valor\n",
        "\n",
        "  def __str__(self):\n",
        "    return \"[>>Codigo {} Saldo {}<<]\".format(self.codigo, self.saldo)"
      ],
      "execution_count": null,
      "outputs": []
    },
    {
      "cell_type": "code",
      "metadata": {
        "colab": {
          "base_uri": "https://localhost:8080/"
        },
        "id": "2uLSt59bE-pN",
        "outputId": "9bb6c97d-ba56-4a6c-e68d-8b58446c41cd"
      },
      "source": [
        "conta_rafa = ContaCorrente(15)\n",
        "print(conta_rafa)"
      ],
      "execution_count": null,
      "outputs": [
        {
          "output_type": "stream",
          "name": "stdout",
          "text": [
            "[>>Codigo 15 Saldo 0<<]\n"
          ]
        }
      ]
    },
    {
      "cell_type": "code",
      "metadata": {
        "colab": {
          "base_uri": "https://localhost:8080/"
        },
        "id": "vCQqbX3qFE0d",
        "outputId": "a0ddfe3f-74f4-407b-b069-b50304650c48"
      },
      "source": [
        "conta_rafa.deposita(500)\n",
        "print(conta_rafa)"
      ],
      "execution_count": null,
      "outputs": [
        {
          "output_type": "stream",
          "name": "stdout",
          "text": [
            "[>>Codigo 15 Saldo 1000<<]\n"
          ]
        }
      ]
    },
    {
      "cell_type": "code",
      "metadata": {
        "colab": {
          "base_uri": "https://localhost:8080/"
        },
        "id": "o7d7dZ4MFr1d",
        "outputId": "9153a26c-a93b-4742-e0a6-b30fdc7f33be"
      },
      "source": [
        "conta_karol = ContaCorrente(4568)\n",
        "conta_karol.deposita(500)\n",
        "print(conta_karol)"
      ],
      "execution_count": null,
      "outputs": [
        {
          "output_type": "stream",
          "name": "stdout",
          "text": [
            "[>>Codigo 4568 Saldo 500<<]\n"
          ]
        }
      ]
    },
    {
      "cell_type": "code",
      "metadata": {
        "colab": {
          "base_uri": "https://localhost:8080/"
        },
        "id": "Vj-nuhYbF-h1",
        "outputId": "30357068-24d0-4e5b-bc4e-79d5e89e4c9d"
      },
      "source": [
        "contas = [conta_rafa, conta_karol]\n",
        "for conta in contas:\n",
        "  print(conta)"
      ],
      "execution_count": null,
      "outputs": [
        {
          "output_type": "stream",
          "name": "stdout",
          "text": [
            "[>>Codigo 15 Saldo 1000<<]\n",
            "[>>Codigo 4568 Saldo 500<<]\n"
          ]
        }
      ]
    },
    {
      "cell_type": "code",
      "metadata": {
        "id": "44waWZNwGE7V"
      },
      "source": [
        "contas = [conta_karol, conta_rafa, conta_karol]"
      ],
      "execution_count": null,
      "outputs": []
    },
    {
      "cell_type": "code",
      "metadata": {
        "colab": {
          "base_uri": "https://localhost:8080/"
        },
        "id": "DuRbE9ScGfiN",
        "outputId": "5910c56d-17d9-44f3-db3d-5d4312ff70be"
      },
      "source": [
        "print(contas[0])"
      ],
      "execution_count": null,
      "outputs": [
        {
          "output_type": "stream",
          "name": "stdout",
          "text": [
            "[>>Codigo 4568 Saldo 500<<]\n"
          ]
        }
      ]
    },
    {
      "cell_type": "code",
      "metadata": {
        "id": "FXY2pQVzGhw1"
      },
      "source": [
        "conta_rafa.deposita(100)"
      ],
      "execution_count": null,
      "outputs": []
    },
    {
      "cell_type": "code",
      "metadata": {
        "colab": {
          "base_uri": "https://localhost:8080/"
        },
        "id": "nnGKYzEaGm2N",
        "outputId": "3d8c4dc8-dec6-443d-fb14-cdeba7293ad5"
      },
      "source": [
        "print(conta_rafa)"
      ],
      "execution_count": null,
      "outputs": [
        {
          "output_type": "stream",
          "name": "stdout",
          "text": [
            "[>>Codigo 15 Saldo 1100<<]\n"
          ]
        }
      ]
    },
    {
      "cell_type": "code",
      "metadata": {
        "colab": {
          "base_uri": "https://localhost:8080/"
        },
        "id": "yhNtlAp-Gqrk",
        "outputId": "3ca22dc4-e61e-4860-feb9-ec8986bf71bb"
      },
      "source": [
        "print(contas[2])"
      ],
      "execution_count": null,
      "outputs": [
        {
          "output_type": "stream",
          "name": "stdout",
          "text": [
            "[>>Codigo 4568 Saldo 500<<]\n"
          ]
        }
      ]
    },
    {
      "cell_type": "code",
      "metadata": {
        "id": "m05379rbHAWl"
      },
      "source": [
        "contas[2].deposita(500)"
      ],
      "execution_count": null,
      "outputs": []
    },
    {
      "cell_type": "code",
      "metadata": {
        "colab": {
          "base_uri": "https://localhost:8080/"
        },
        "id": "e4zFLj9zHM79",
        "outputId": "2aaee574-45b0-4f26-b3fa-4c7ef813f476"
      },
      "source": [
        "print(conta_rafa)"
      ],
      "execution_count": null,
      "outputs": [
        {
          "output_type": "stream",
          "name": "stdout",
          "text": [
            "[>>Codigo 15 Saldo 1100<<]\n"
          ]
        }
      ]
    },
    {
      "cell_type": "code",
      "metadata": {
        "colab": {
          "base_uri": "https://localhost:8080/"
        },
        "id": "uHtV2q7fHO-M",
        "outputId": "764e57e2-114b-467e-ad80-55e7d9b3f8b6"
      },
      "source": [
        "print(conta_karol)"
      ],
      "execution_count": null,
      "outputs": [
        {
          "output_type": "stream",
          "name": "stdout",
          "text": [
            "[>>Codigo 4568 Saldo 1000<<]\n"
          ]
        }
      ]
    },
    {
      "cell_type": "code",
      "metadata": {
        "colab": {
          "base_uri": "https://localhost:8080/"
        },
        "id": "gqUNGnnWHSRc",
        "outputId": "fa4116a3-a8ba-4501-97c1-67c66f742957"
      },
      "source": [
        "def deposita_para_todas(contas):\n",
        "  for conta in contas:\n",
        "    conta.deposita(100)\n",
        "\n",
        "contas = [conta_karol, conta_rafa]\n",
        "print(contas[0], contas[1])\n",
        "deposita_para_todas(contas)\n",
        "print(contas[0], contas[1])"
      ],
      "execution_count": null,
      "outputs": [
        {
          "output_type": "stream",
          "name": "stdout",
          "text": [
            "[>>Codigo 4568 Saldo 1000<<] [>>Codigo 15 Saldo 1100<<]\n",
            "[>>Codigo 4568 Saldo 1100<<] [>>Codigo 15 Saldo 1200<<]\n"
          ]
        }
      ]
    },
    {
      "cell_type": "code",
      "metadata": {
        "colab": {
          "base_uri": "https://localhost:8080/"
        },
        "id": "UU6Ca7DHJOXU",
        "outputId": "49127230-6b95-4a06-c64a-160237b9c735"
      },
      "source": [
        "contas.insert(0, 76)\n",
        "print(contas[0], contas[1], contas[2])"
      ],
      "execution_count": null,
      "outputs": [
        {
          "output_type": "stream",
          "name": "stdout",
          "text": [
            "76 76 76\n"
          ]
        }
      ]
    },
    {
      "cell_type": "code",
      "metadata": {
        "id": "p1SRnsJxJX58"
      },
      "source": [
        "rafa = ('Rafa', 25, 1996)\n",
        "karol = ('Karol', 23, 1998)"
      ],
      "execution_count": null,
      "outputs": []
    },
    {
      "cell_type": "code",
      "metadata": {
        "id": "hh0YzAKEMuGD"
      },
      "source": [
        "# conta_rafa.deposita() é uma variação OO\n",
        "\n",
        "def deposita(conta): #é uma variação FUNCIONAL (separando o comportamento dos dados)\n",
        "    novo_saldo = conta[1] + 100\n",
        "    codigo = conta[0]\n",
        "    return (codigo, novo_saldo)"
      ],
      "execution_count": null,
      "outputs": []
    },
    {
      "cell_type": "code",
      "metadata": {
        "colab": {
          "base_uri": "https://localhost:8080/"
        },
        "id": "hgRvRcBQNlGW",
        "outputId": "8d6e77ab-cede-4b4c-f593-85ea8de2776a"
      },
      "source": [
        "usuarios= [karol, rafa]\n",
        "usuarios"
      ],
      "execution_count": null,
      "outputs": [
        {
          "output_type": "execute_result",
          "data": {
            "text/plain": [
              "[('Karol', 23, 1998), ('Rafa', 25, 1996)]"
            ]
          },
          "metadata": {},
          "execution_count": 40
        }
      ]
    },
    {
      "cell_type": "code",
      "metadata": {
        "colab": {
          "base_uri": "https://localhost:8080/",
          "height": 180
        },
        "id": "0RGE-hDLPDvU",
        "outputId": "8b5a4ca7-cfd2-4abb-e24b-78b824cedb75"
      },
      "source": [
        "usuarios.append('Jose', 51, 1980)\n",
        "usuarios"
      ],
      "execution_count": null,
      "outputs": [
        {
          "output_type": "error",
          "ename": "TypeError",
          "evalue": "ignored",
          "traceback": [
            "\u001b[0;31m---------------------------------------------------------------------------\u001b[0m",
            "\u001b[0;31mTypeError\u001b[0m                                 Traceback (most recent call last)",
            "\u001b[0;32m<ipython-input-42-e88fdea52371>\u001b[0m in \u001b[0;36m<module>\u001b[0;34m()\u001b[0m\n\u001b[0;32m----> 1\u001b[0;31m \u001b[0musuarios\u001b[0m\u001b[0;34m.\u001b[0m\u001b[0mappend\u001b[0m\u001b[0;34m(\u001b[0m\u001b[0;34m'Jose'\u001b[0m\u001b[0;34m,\u001b[0m \u001b[0;36m51\u001b[0m\u001b[0;34m,\u001b[0m \u001b[0;36m1980\u001b[0m\u001b[0;34m)\u001b[0m\u001b[0;34m\u001b[0m\u001b[0;34m\u001b[0m\u001b[0m\n\u001b[0m\u001b[1;32m      2\u001b[0m \u001b[0musuarios\u001b[0m\u001b[0;34m\u001b[0m\u001b[0;34m\u001b[0m\u001b[0m\n",
            "\u001b[0;31mTypeError\u001b[0m: append() takes exactly one argument (3 given)"
          ]
        }
      ]
    },
    {
      "cell_type": "code",
      "metadata": {
        "id": "9dqdMPnjPkUj"
      },
      "source": [
        ""
      ],
      "execution_count": null,
      "outputs": []
    },
    {
      "cell_type": "markdown",
      "metadata": {
        "id": "HphT2RcWXceG"
      },
      "source": [
        "# Herança e Polimorfismo"
      ]
    },
    {
      "cell_type": "code",
      "metadata": {
        "id": "vMU8XrZKXgVr"
      },
      "source": [
        "from abc import ABCMeta, abstractmethod\n",
        "\n",
        "class Conta(metaclass=ABCMeta):\n",
        "  def __init__(self, codigo):\n",
        "    self._codigo = codigo\n",
        "    self._saldo = 0\n",
        "\n",
        "  def deposita(self, valor):\n",
        "    self._saldo += valor\n",
        "\n",
        "  @abstractmethod\n",
        "  def passa_o_mes(self):\n",
        "    pass\n",
        "\n",
        "  def __str__(self):\n",
        "    return \"[>>Codigo {} Saldo {}<<]\".format(self._codigo, self._saldo)"
      ],
      "execution_count": 69,
      "outputs": []
    },
    {
      "cell_type": "code",
      "metadata": {
        "colab": {
          "base_uri": "https://localhost:8080/",
          "height": 163
        },
        "id": "-Kv1QL-CY4rU",
        "outputId": "deb8a9a3-e435-4258-b614-91d9ef5c3ade"
      },
      "source": [
        "print(Conta(88))"
      ],
      "execution_count": 70,
      "outputs": [
        {
          "output_type": "error",
          "ename": "TypeError",
          "evalue": "ignored",
          "traceback": [
            "\u001b[0;31m---------------------------------------------------------------------------\u001b[0m",
            "\u001b[0;31mTypeError\u001b[0m                                 Traceback (most recent call last)",
            "\u001b[0;32m<ipython-input-70-bcabbe50454b>\u001b[0m in \u001b[0;36m<module>\u001b[0;34m()\u001b[0m\n\u001b[0;32m----> 1\u001b[0;31m \u001b[0mprint\u001b[0m\u001b[0;34m(\u001b[0m\u001b[0mConta\u001b[0m\u001b[0;34m(\u001b[0m\u001b[0;36m88\u001b[0m\u001b[0;34m)\u001b[0m\u001b[0;34m)\u001b[0m\u001b[0;34m\u001b[0m\u001b[0;34m\u001b[0m\u001b[0m\n\u001b[0m",
            "\u001b[0;31mTypeError\u001b[0m: Can't instantiate abstract class Conta with abstract methods passa_o_mes"
          ]
        }
      ]
    },
    {
      "cell_type": "code",
      "metadata": {
        "id": "NqMZzrJjY84b"
      },
      "source": [
        "class ContaCorrente(Conta):\n",
        "\n",
        "  def passa_o_mes(self):\n",
        "    self._saldo -= 2\n",
        "\n",
        "class ContaPoupanca(Conta):\n",
        "\n",
        "  def passa_o_mes(self):\n",
        "    self._saldo *= 1.01\n",
        "    self._saldo -= 3\n",
        "\n",
        "class ContaInvestimento(Conta):\n",
        "  pass\n",
        "  \n"
      ],
      "execution_count": 72,
      "outputs": []
    },
    {
      "cell_type": "code",
      "metadata": {
        "colab": {
          "base_uri": "https://localhost:8080/",
          "height": 163
        },
        "id": "1PRsBS09jZbx",
        "outputId": "d7ef9b84-e369-47ce-8fbe-1c3bd51fedda"
      },
      "source": [
        "ContaInvestimento(321)"
      ],
      "execution_count": 73,
      "outputs": [
        {
          "output_type": "error",
          "ename": "TypeError",
          "evalue": "ignored",
          "traceback": [
            "\u001b[0;31m---------------------------------------------------------------------------\u001b[0m",
            "\u001b[0;31mTypeError\u001b[0m                                 Traceback (most recent call last)",
            "\u001b[0;32m<ipython-input-73-369cf7a63ce7>\u001b[0m in \u001b[0;36m<module>\u001b[0;34m()\u001b[0m\n\u001b[0;32m----> 1\u001b[0;31m \u001b[0mContaInvestimento\u001b[0m\u001b[0;34m(\u001b[0m\u001b[0;36m321\u001b[0m\u001b[0;34m)\u001b[0m\u001b[0;34m\u001b[0m\u001b[0;34m\u001b[0m\u001b[0m\n\u001b[0m",
            "\u001b[0;31mTypeError\u001b[0m: Can't instantiate abstract class ContaInvestimento with abstract methods passa_o_mes"
          ]
        }
      ]
    },
    {
      "cell_type": "code",
      "metadata": {
        "colab": {
          "base_uri": "https://localhost:8080/"
        },
        "id": "jcFC9l1pZrLz",
        "outputId": "349f61ac-de07-4110-d5ee-624be916ac0a"
      },
      "source": [
        "conta16 = ContaCorrente(16)\n",
        "conta16.deposita(1000)\n",
        "conta16.passa_o_mes()\n",
        "print(conta16)"
      ],
      "execution_count": 49,
      "outputs": [
        {
          "output_type": "stream",
          "name": "stdout",
          "text": [
            "[>>Codigo 16 Saldo 998<<]\n"
          ]
        }
      ]
    },
    {
      "cell_type": "code",
      "metadata": {
        "colab": {
          "base_uri": "https://localhost:8080/"
        },
        "id": "_BMUHuVeZtKy",
        "outputId": "484f5fbc-c571-4352-ca9a-d96f3f35869b"
      },
      "source": [
        "conta17 = ContaPoupanca(17)\n",
        "conta17.deposita(1000)\n",
        "conta17.passa_o_mes()\n",
        "print(conta17)"
      ],
      "execution_count": 52,
      "outputs": [
        {
          "output_type": "stream",
          "name": "stdout",
          "text": [
            "[>>Codigo 17 Saldo 1007.0<<]\n"
          ]
        }
      ]
    },
    {
      "cell_type": "code",
      "metadata": {
        "colab": {
          "base_uri": "https://localhost:8080/"
        },
        "id": "HAybuIj2Z8Za",
        "outputId": "2bbcf76a-958e-47c1-dca7-46fbce7e6f62"
      },
      "source": [
        "conta16 = ContaCorrente(16)\n",
        "conta16.deposita(1000)\n",
        "conta17 = ContaPoupanca(17)\n",
        "conta17.deposita(1000)\n",
        "contas = [conta16, conta17]\n",
        "\n",
        "for conta in contas:\n",
        "  conta.passa_o_mes() # duck type\n",
        "  print(conta)"
      ],
      "execution_count": 75,
      "outputs": [
        {
          "output_type": "stream",
          "name": "stdout",
          "text": [
            "[>>Codigo 16 Saldo 998<<]\n",
            "[>>Codigo 17 Saldo 1007.0<<]\n"
          ]
        }
      ]
    },
    {
      "cell_type": "code",
      "metadata": {
        "id": "jcMzqv-IaZbC"
      },
      "source": [
        ""
      ],
      "execution_count": null,
      "outputs": []
    },
    {
      "cell_type": "markdown",
      "metadata": {
        "id": "Vph-ZvPHcVcA"
      },
      "source": [
        "#**evitaremos usar array puro**, se precisamos de trabalho numérico, usamos o numpy"
      ]
    },
    {
      "cell_type": "code",
      "metadata": {
        "colab": {
          "base_uri": "https://localhost:8080/"
        },
        "id": "Y6p4GYSbcZ4S",
        "outputId": "d4f90f1f-d623-433c-ef13-21c50c49b873"
      },
      "source": [
        "import array as arr\n",
        "\n",
        "arr.array('d', [1, 3.5]) #precisa idetificar o tipo de array"
      ],
      "execution_count": 59,
      "outputs": [
        {
          "output_type": "execute_result",
          "data": {
            "text/plain": [
              "array('d', [1.0, 3.5])"
            ]
          },
          "metadata": {},
          "execution_count": 59
        }
      ]
    },
    {
      "cell_type": "markdown",
      "metadata": {
        "id": "BFAgMJJnex3A"
      },
      "source": [
        "Usaremos o Numpy para substituir o array nas tarefas que utilizam arrays e matrizes para obter uma melhor desempenho"
      ]
    },
    {
      "cell_type": "code",
      "metadata": {
        "colab": {
          "base_uri": "https://localhost:8080/"
        },
        "id": "b6Za1uiCcliD",
        "outputId": "6dd200e5-076f-4191-9220-ca8ffb706c4b"
      },
      "source": [
        "!pip install numpy"
      ],
      "execution_count": 61,
      "outputs": [
        {
          "output_type": "stream",
          "name": "stdout",
          "text": [
            "Requirement already satisfied: numpy in /usr/local/lib/python3.7/dist-packages (1.19.5)\n"
          ]
        }
      ]
    },
    {
      "cell_type": "code",
      "metadata": {
        "colab": {
          "base_uri": "https://localhost:8080/"
        },
        "id": "RBZYgHbBe98z",
        "outputId": "49f05f14-9b90-4680-93b1-2a3ca5459a3e"
      },
      "source": [
        "import numpy as np\n",
        "\n",
        "numeros = np.array([1, 3.5])\n",
        "numeros"
      ],
      "execution_count": 62,
      "outputs": [
        {
          "output_type": "execute_result",
          "data": {
            "text/plain": [
              "array([1. , 3.5])"
            ]
          },
          "metadata": {},
          "execution_count": 62
        }
      ]
    },
    {
      "cell_type": "code",
      "metadata": {
        "colab": {
          "base_uri": "https://localhost:8080/"
        },
        "id": "s9XDtm2afROK",
        "outputId": "ea0b7c4a-9003-44a9-fc1a-50338d97ba20"
      },
      "source": [
        "numeros + 3"
      ],
      "execution_count": 65,
      "outputs": [
        {
          "output_type": "execute_result",
          "data": {
            "text/plain": [
              "array([4. , 6.5])"
            ]
          },
          "metadata": {},
          "execution_count": 65
        }
      ]
    },
    {
      "cell_type": "code",
      "metadata": {
        "id": "5gvKstEjfTri"
      },
      "source": [
        "class ContaSalario:\n",
        "\n",
        "  def __init__(self, codigo):\n",
        "    self._codigo = codigo\n",
        "    self._saldo = 0\n",
        "\n",
        "  def deposita(self, valor):\n",
        "    self._saldo += valor\n",
        "\n",
        "  def __str__(self):\n",
        "    return \"[>>Codigo {} Saldo {}<<]\".format(self._codigo, self._saldo)"
      ],
      "execution_count": 80,
      "outputs": []
    },
    {
      "cell_type": "code",
      "metadata": {
        "colab": {
          "base_uri": "https://localhost:8080/"
        },
        "id": "uoL8qoDuoGOY",
        "outputId": "e698eb6c-4397-418f-a0cd-9d145e15e421"
      },
      "source": [
        "conta1 = ContaSalario(37)\n",
        "print(conta1)"
      ],
      "execution_count": 98,
      "outputs": [
        {
          "output_type": "stream",
          "name": "stdout",
          "text": [
            "[>>Codigo 37 Saldo 0<<]\n"
          ]
        }
      ]
    },
    {
      "cell_type": "code",
      "metadata": {
        "colab": {
          "base_uri": "https://localhost:8080/"
        },
        "id": "6KHmtt9toLEx",
        "outputId": "a12914e2-211c-4b97-c14f-642e952d89b5"
      },
      "source": [
        "conta2 = ContaSalario(37)\n",
        "print(conta2)"
      ],
      "execution_count": 99,
      "outputs": [
        {
          "output_type": "stream",
          "name": "stdout",
          "text": [
            "[>>Codigo 37 Saldo 0<<]\n"
          ]
        }
      ]
    },
    {
      "cell_type": "code",
      "metadata": {
        "colab": {
          "base_uri": "https://localhost:8080/"
        },
        "id": "H-VlGTZ0pRFx",
        "outputId": "f11f3e12-e644-499e-fb58-e8e000b43326"
      },
      "source": [
        "contas = [conta1]\n",
        "conta1 in contas"
      ],
      "execution_count": 100,
      "outputs": [
        {
          "output_type": "execute_result",
          "data": {
            "text/plain": [
              "True"
            ]
          },
          "metadata": {},
          "execution_count": 100
        }
      ]
    },
    {
      "cell_type": "code",
      "metadata": {
        "colab": {
          "base_uri": "https://localhost:8080/"
        },
        "id": "U-pkMTRGpU-R",
        "outputId": "2684cdd9-2f2a-46b2-9689-35d631968982"
      },
      "source": [
        "conta2 in contas"
      ],
      "execution_count": 101,
      "outputs": [
        {
          "output_type": "execute_result",
          "data": {
            "text/plain": [
              "True"
            ]
          },
          "metadata": {},
          "execution_count": 101
        }
      ]
    },
    {
      "cell_type": "code",
      "metadata": {
        "id": "yepE1hgfpks4"
      },
      "source": [
        "class ContaSalario:\n",
        "\n",
        "  def __init__(self, codigo):\n",
        "    self._codigo = codigo\n",
        "    self._saldo = 0\n",
        "\n",
        "  def __eq__(self, outro):\n",
        "    if type(outro) != ContaSalario:\n",
        "      return False\n",
        "      self._codigo == outro._codigo and self._saldo == outro._saldo\n",
        "\n",
        "  def deposita(self, valor):\n",
        "    self._saldo += valor\n",
        "\n",
        "  def __str__(self):\n",
        "    return \"[>>Codigo {} Saldo {}<<]\".format(self._codigo, self._saldo)"
      ],
      "execution_count": 112,
      "outputs": []
    },
    {
      "cell_type": "code",
      "metadata": {
        "colab": {
          "base_uri": "https://localhost:8080/"
        },
        "id": "7ac925cVqSdP",
        "outputId": "c6946075-49fa-4205-b5f9-8c343f7116df"
      },
      "source": [
        "conta1 = ContaSalario(37)\n",
        "conta2 = ContaSalario(37)\n",
        "conta1 == conta2"
      ],
      "execution_count": 113,
      "outputs": [
        {
          "output_type": "execute_result",
          "data": {
            "text/plain": [
              "True"
            ]
          },
          "metadata": {},
          "execution_count": 113
        }
      ]
    },
    {
      "cell_type": "code",
      "metadata": {
        "colab": {
          "base_uri": "https://localhost:8080/"
        },
        "id": "KiQi3wsDqpN5",
        "outputId": "b8cde554-4b6a-4862-93ce-253ebdcf2e29"
      },
      "source": [
        "conta1 != conta2"
      ],
      "execution_count": 114,
      "outputs": [
        {
          "output_type": "execute_result",
          "data": {
            "text/plain": [
              "False"
            ]
          },
          "metadata": {},
          "execution_count": 114
        }
      ]
    },
    {
      "cell_type": "code",
      "metadata": {
        "colab": {
          "base_uri": "https://localhost:8080/"
        },
        "id": "aSpHJgxmqvsI",
        "outputId": "70d18d86-d3c4-45da-d985-c1681c074a7b"
      },
      "source": [
        "conta1 in [conta2]"
      ],
      "execution_count": 115,
      "outputs": [
        {
          "output_type": "execute_result",
          "data": {
            "text/plain": [
              "True"
            ]
          },
          "metadata": {},
          "execution_count": 115
        }
      ]
    },
    {
      "cell_type": "code",
      "metadata": {
        "colab": {
          "base_uri": "https://localhost:8080/"
        },
        "id": "aYI_1I7fqxNq",
        "outputId": "c1131c62-e68e-460c-c328-98c7300624d9"
      },
      "source": [
        "conta2 in [conta1]"
      ],
      "execution_count": 116,
      "outputs": [
        {
          "output_type": "execute_result",
          "data": {
            "text/plain": [
              "True"
            ]
          },
          "metadata": {},
          "execution_count": 116
        }
      ]
    },
    {
      "cell_type": "code",
      "metadata": {
        "id": "CvDwEwl6qyx4"
      },
      "source": [
        " conta1.deposita(10)"
      ],
      "execution_count": 117,
      "outputs": []
    },
    {
      "cell_type": "code",
      "metadata": {
        "colab": {
          "base_uri": "https://localhost:8080/"
        },
        "id": "gKl-L5hmrI_o",
        "outputId": "237b4803-a8ba-4103-c5d2-71bf2be78602"
      },
      "source": [
        "conta1 == conta2"
      ],
      "execution_count": 118,
      "outputs": [
        {
          "output_type": "execute_result",
          "data": {
            "text/plain": [
              "False"
            ]
          },
          "metadata": {},
          "execution_count": 118
        }
      ]
    },
    {
      "cell_type": "code",
      "metadata": {
        "id": "5xzksyVNrKyI"
      },
      "source": [
        "class ContaSalario:\n",
        "\n",
        "  def __init__(self, codigo):\n",
        "    self._codigo = codigo\n",
        "    self._saldo = 0\n",
        "\n",
        "  def __eq__(self, outro):\n",
        "    if type(outro) != ContaSalario:\n",
        "      return False\n",
        "\n",
        "      return self._codigo == outro._codigo and self._saldo == outro._saldo\n",
        "\n",
        "  def deposita(self, valor):\n",
        "    self._saldo += valor\n",
        "\n",
        "  def __str__(self):\n",
        "    return \"[>>Codigo {} Saldo {}<<]\".format(self._codigo, self._saldo)\n",
        "\n",
        "class ContaMultiploSalario(ContaSalario):\n",
        "  pass"
      ],
      "execution_count": 120,
      "outputs": []
    },
    {
      "cell_type": "code",
      "metadata": {
        "colab": {
          "base_uri": "https://localhost:8080/"
        },
        "id": "88ln9ofJ6l__",
        "outputId": "c54bc866-e8ae-4059-e629-24200329483a"
      },
      "source": [
        "isinstance(ContaCorrente(34), ContaCorrente) #Verificação genêrica"
      ],
      "execution_count": 123,
      "outputs": [
        {
          "output_type": "execute_result",
          "data": {
            "text/plain": [
              "True"
            ]
          },
          "metadata": {},
          "execution_count": 123
        }
      ]
    },
    {
      "cell_type": "code",
      "metadata": {
        "colab": {
          "base_uri": "https://localhost:8080/"
        },
        "id": "18cEtqv-62Tu",
        "outputId": "4537a50b-271e-412e-8892-8e820fb20ece"
      },
      "source": [
        "isinstance(ContaCorrente(34), Conta)"
      ],
      "execution_count": 124,
      "outputs": [
        {
          "output_type": "execute_result",
          "data": {
            "text/plain": [
              "True"
            ]
          },
          "metadata": {},
          "execution_count": 124
        }
      ]
    },
    {
      "cell_type": "code",
      "metadata": {
        "id": "dniIBayO7K3f"
      },
      "source": [
        ""
      ],
      "execution_count": null,
      "outputs": []
    },
    {
      "cell_type": "markdown",
      "metadata": {
        "id": "TrzggdpQ70Iu"
      },
      "source": [
        "Builtins como enumerated, range e desempacotamento automatico de tuplas\n"
      ]
    },
    {
      "cell_type": "code",
      "metadata": {
        "colab": {
          "base_uri": "https://localhost:8080/"
        },
        "id": "MRTSazNq71HO",
        "outputId": "eca15edc-0e52-4513-bad4-a6d652b42fa2"
      },
      "source": [
        "idades = [15, 87, 37, 65, 56, 32, 49, 37]\n",
        "\n",
        "for i in range(len(idades)):\n",
        "  print(i, idades[i])"
      ],
      "execution_count": 129,
      "outputs": [
        {
          "output_type": "stream",
          "name": "stdout",
          "text": [
            "0 15\n",
            "1 87\n",
            "2 37\n",
            "3 65\n",
            "4 56\n",
            "5 32\n",
            "6 49\n",
            "7 37\n"
          ]
        }
      ]
    },
    {
      "cell_type": "code",
      "metadata": {
        "colab": {
          "base_uri": "https://localhost:8080/"
        },
        "id": "ST0P1opv78Nf",
        "outputId": "e058db72-f028-46ce-949c-75170ce26157"
      },
      "source": [
        "range(len(idades)) # lazy..."
      ],
      "execution_count": 136,
      "outputs": [
        {
          "output_type": "execute_result",
          "data": {
            "text/plain": [
              "range(0, 8)"
            ]
          },
          "metadata": {},
          "execution_count": 136
        }
      ]
    },
    {
      "cell_type": "code",
      "metadata": {
        "colab": {
          "base_uri": "https://localhost:8080/"
        },
        "id": "mNkJvxUF9FA3",
        "outputId": "11f9241f-c63d-49ae-b7be-56cb7998b36e"
      },
      "source": [
        "enumerate(idades) # lazy"
      ],
      "execution_count": 139,
      "outputs": [
        {
          "output_type": "execute_result",
          "data": {
            "text/plain": [
              "<enumerate at 0x7f3ccba5bcd0>"
            ]
          },
          "metadata": {},
          "execution_count": 139
        }
      ]
    },
    {
      "cell_type": "code",
      "metadata": {
        "colab": {
          "base_uri": "https://localhost:8080/"
        },
        "id": "zB17u50x9vuu",
        "outputId": "f817d296-c25e-4818-90b9-4350107c5f81"
      },
      "source": [
        "list(range(len(idades))) # forcei a geração dos valores"
      ],
      "execution_count": 141,
      "outputs": [
        {
          "output_type": "execute_result",
          "data": {
            "text/plain": [
              "[0, 1, 2, 3, 4, 5, 6, 7]"
            ]
          },
          "metadata": {},
          "execution_count": 141
        }
      ]
    },
    {
      "cell_type": "code",
      "metadata": {
        "colab": {
          "base_uri": "https://localhost:8080/"
        },
        "id": "zhJsTw2c99o4",
        "outputId": "3aed4ec6-11b6-4b4b-b586-f684726e636e"
      },
      "source": [
        "list(enumerate(idades)) # gerador forçado, tudo de uma vez"
      ],
      "execution_count": 144,
      "outputs": [
        {
          "output_type": "execute_result",
          "data": {
            "text/plain": [
              "[(0, 15), (1, 87), (2, 37), (3, 65), (4, 56), (5, 32), (6, 49), (7, 37)]"
            ]
          },
          "metadata": {},
          "execution_count": 144
        }
      ]
    },
    {
      "cell_type": "code",
      "metadata": {
        "colab": {
          "base_uri": "https://localhost:8080/"
        },
        "id": "kBTskN10-FHO",
        "outputId": "ba42c262-c435-4bbd-b8c8-98f24d4fa75d"
      },
      "source": [
        "for indice, idade in enumerate(idades):   # Desempacotando um por vez (lazy)\n",
        "  print(indice, \"-\", idade)"
      ],
      "execution_count": 152,
      "outputs": [
        {
          "output_type": "stream",
          "name": "stdout",
          "text": [
            "0 - 15\n",
            "1 - 87\n",
            "2 - 37\n",
            "3 - 65\n",
            "4 - 56\n",
            "5 - 32\n",
            "6 - 49\n",
            "7 - 37\n"
          ]
        }
      ]
    },
    {
      "cell_type": "code",
      "metadata": {
        "colab": {
          "base_uri": "https://localhost:8080/"
        },
        "id": "inWY0lAt-5V2",
        "outputId": "f45be516-6fdc-411c-9bca-790dc8856f34"
      },
      "source": [
        "usuarios = [\n",
        "            (\"Rafa\", 25, 1996),\n",
        "            (\"Karol\", 23, 1998),\n",
        "            (\"Lele\", 6, 2015)\n",
        "]\n",
        "\n",
        "for nome, idade, nascimento in usuarios: # já desempacotado\n",
        "  print(nome)"
      ],
      "execution_count": 149,
      "outputs": [
        {
          "output_type": "stream",
          "name": "stdout",
          "text": [
            "Rafa\n",
            "Karol\n",
            "Lele\n"
          ]
        }
      ]
    },
    {
      "cell_type": "code",
      "metadata": {
        "colab": {
          "base_uri": "https://localhost:8080/"
        },
        "id": "0M80rIU2_jFv",
        "outputId": "c4656f7f-fe64-4db0-e799-2d799eb49be5"
      },
      "source": [
        "for nome, _, _ in usuarios: # já desempacotado, ignorando o resto\n",
        "  print(nome)"
      ],
      "execution_count": 151,
      "outputs": [
        {
          "output_type": "stream",
          "name": "stdout",
          "text": [
            "Rafa\n",
            "Karol\n",
            "Lele\n"
          ]
        }
      ]
    },
    {
      "cell_type": "code",
      "metadata": {
        "colab": {
          "base_uri": "https://localhost:8080/"
        },
        "id": "oq0F-UUG_0Au",
        "outputId": "be28ff57-100c-492c-fcbf-b777b6575b0c"
      },
      "source": [
        "idades"
      ],
      "execution_count": 153,
      "outputs": [
        {
          "output_type": "execute_result",
          "data": {
            "text/plain": [
              "[15, 87, 37, 65, 56, 32, 49, 37]"
            ]
          },
          "metadata": {},
          "execution_count": 153
        }
      ]
    },
    {
      "cell_type": "code",
      "metadata": {
        "colab": {
          "base_uri": "https://localhost:8080/"
        },
        "id": "Xwz3mnYMCR1u",
        "outputId": "19c085ec-7f61-41d5-c3b8-111c640ab954"
      },
      "source": [
        "sorted(idades) # Para ordenar em ordem numerica (ordena no próprio lugar, sem mexer nos outros pontos onde a lista está sendo chamada.)"
      ],
      "execution_count": 160,
      "outputs": [
        {
          "output_type": "execute_result",
          "data": {
            "text/plain": [
              "[15, 32, 37, 37, 49, 56, 65, 87]"
            ]
          },
          "metadata": {},
          "execution_count": 160
        }
      ]
    },
    {
      "cell_type": "code",
      "metadata": {
        "colab": {
          "base_uri": "https://localhost:8080/"
        },
        "id": "F0gM7zSYDGY8",
        "outputId": "086cac99-5fe7-450e-975d-a97380464c72"
      },
      "source": [
        "sorted(idades, reverse=True) # Para ordenar em ordem numerica inversa"
      ],
      "execution_count": 163,
      "outputs": [
        {
          "output_type": "execute_result",
          "data": {
            "text/plain": [
              "[87, 65, 56, 49, 37, 37, 32, 15]"
            ]
          },
          "metadata": {},
          "execution_count": 163
        }
      ]
    },
    {
      "cell_type": "code",
      "metadata": {
        "colab": {
          "base_uri": "https://localhost:8080/"
        },
        "id": "ks3Mzd4eCVWe",
        "outputId": "4e18647e-bb69-457e-953b-7dccb31aa60b"
      },
      "source": [
        "list(reversed(sorted(idades))) # Ordenar em ordem inversa2\n"
      ],
      "execution_count": 159,
      "outputs": [
        {
          "output_type": "execute_result",
          "data": {
            "text/plain": [
              "[87, 65, 56, 49, 37, 37, 32, 15]"
            ]
          },
          "metadata": {},
          "execution_count": 159
        }
      ]
    },
    {
      "cell_type": "code",
      "metadata": {
        "id": "stSVmQLACfMd"
      },
      "source": [
        "idades.sort() # Para ordenar a lista no local da origem, alterando em todos os outros pontos"
      ],
      "execution_count": 164,
      "outputs": []
    },
    {
      "cell_type": "code",
      "metadata": {
        "colab": {
          "base_uri": "https://localhost:8080/"
        },
        "id": "Dx2LgBD1DgbN",
        "outputId": "2d2f7dd3-a70c-4a61-8aba-7145a53041e5"
      },
      "source": [
        "idades"
      ],
      "execution_count": 165,
      "outputs": [
        {
          "output_type": "execute_result",
          "data": {
            "text/plain": [
              "[15, 32, 37, 37, 49, 56, 65, 87]"
            ]
          },
          "metadata": {},
          "execution_count": 165
        }
      ]
    },
    {
      "cell_type": "code",
      "metadata": {
        "colab": {
          "base_uri": "https://localhost:8080/"
        },
        "id": "O5JhhUjHDh-t",
        "outputId": "9998b31b-a2e4-4cd9-a84d-3c5e99b95c27"
      },
      "source": [
        "nomes = [\"Rafa\", \"Lele\", \"Karol\"]\n",
        "sorted(nomes)"
      ],
      "execution_count": 168,
      "outputs": [
        {
          "output_type": "execute_result",
          "data": {
            "text/plain": [
              "['Karol', 'Lele', 'Rafa']"
            ]
          },
          "metadata": {},
          "execution_count": 168
        }
      ]
    },
    {
      "cell_type": "code",
      "metadata": {
        "colab": {
          "base_uri": "https://localhost:8080/"
        },
        "id": "Gtfq5j-lFKvu",
        "outputId": "ab900f56-0cf0-4f9b-ba61-4a23d2e41e73"
      },
      "source": [
        "nomes = [\"Rafa\", \"Lele\", \"karol\"] # Diferenciação de orgenação por letra minuscula tbm\n",
        "sorted(nomes)"
      ],
      "execution_count": 169,
      "outputs": [
        {
          "output_type": "execute_result",
          "data": {
            "text/plain": [
              "['Lele', 'Rafa', 'karol']"
            ]
          },
          "metadata": {},
          "execution_count": 169
        }
      ]
    },
    {
      "cell_type": "code",
      "metadata": {
        "id": "hj6Q7isZFVGt"
      },
      "source": [
        "class ContaSalario:\n",
        "\n",
        "  def __init__(self, codigo):\n",
        "    self._codigo = codigo\n",
        "    self._saldo = 0\n",
        "\n",
        "  def __eq__(self, outro):\n",
        "    if type(outro) != ContaSalario:\n",
        "      return False\n",
        "\n",
        "    return self._codigo == outro._codigo and self._saldo == outro._saldo\n",
        "\n",
        "  def deposita(self, valor):\n",
        "    self._saldo += valor\n",
        "\n",
        "  def __str__(self):\n",
        "    return \"[>>Codigo {} Saldo {}<<]\".format(self._codigo, self._saldo)\n",
        "\n",
        "class ContaMultiploSalario(ContaSalario):\n",
        "  pass"
      ],
      "execution_count": 172,
      "outputs": []
    },
    {
      "cell_type": "code",
      "metadata": {
        "id": "VTlTpKQBFfQt"
      },
      "source": [
        "conta_salario_rafa = ContaSalario(13)\n",
        "conta_salario_rafa.deposita(500)\n",
        "\n",
        "conta_salario_karol = ContaSalario(15)\n",
        "conta_salario_karol.deposita(1000)\n",
        "\n",
        "conta_salario_lele = ContaSalario(1)\n",
        "conta_salario_lele.deposita(510)\n",
        "\n",
        "contas = [conta_salario_karol, conta_salario_lele, conta_salario_rafa]"
      ],
      "execution_count": 173,
      "outputs": []
    },
    {
      "cell_type": "code",
      "metadata": {
        "colab": {
          "base_uri": "https://localhost:8080/"
        },
        "id": "lnIPRAjqF-l-",
        "outputId": "3168ee0e-cafa-47bd-c07a-5096c648ea88"
      },
      "source": [
        "for conta in contas:\n",
        "  print(conta)"
      ],
      "execution_count": 174,
      "outputs": [
        {
          "output_type": "stream",
          "name": "stdout",
          "text": [
            "[>>Codigo 15 Saldo 1000<<]\n",
            "[>>Codigo 1 Saldo 510<<]\n",
            "[>>Codigo 13 Saldo 500<<]\n"
          ]
        }
      ]
    },
    {
      "cell_type": "code",
      "metadata": {
        "colab": {
          "base_uri": "https://localhost:8080/",
          "height": 163
        },
        "id": "MDbSJpXhGC7O",
        "outputId": "922a2552-8de4-4735-a6bc-8ea3a70008d8"
      },
      "source": [
        "sorted(contas)"
      ],
      "execution_count": 175,
      "outputs": [
        {
          "output_type": "error",
          "ename": "TypeError",
          "evalue": "ignored",
          "traceback": [
            "\u001b[0;31m---------------------------------------------------------------------------\u001b[0m",
            "\u001b[0;31mTypeError\u001b[0m                                 Traceback (most recent call last)",
            "\u001b[0;32m<ipython-input-175-df7230969aa4>\u001b[0m in \u001b[0;36m<module>\u001b[0;34m()\u001b[0m\n\u001b[0;32m----> 1\u001b[0;31m \u001b[0msorted\u001b[0m\u001b[0;34m(\u001b[0m\u001b[0mcontas\u001b[0m\u001b[0;34m)\u001b[0m\u001b[0;34m\u001b[0m\u001b[0;34m\u001b[0m\u001b[0m\n\u001b[0m",
            "\u001b[0;31mTypeError\u001b[0m: '<' not supported between instances of 'ContaSalario' and 'ContaSalario'"
          ]
        }
      ]
    },
    {
      "cell_type": "code",
      "metadata": {
        "colab": {
          "base_uri": "https://localhost:8080/"
        },
        "id": "GsIdoWTrGJFG",
        "outputId": "b1490b82-83c0-4c80-c403-eec175a799e9"
      },
      "source": [
        "def extrai_saldo(conta): # ordenando pelo saldo\n",
        "  return conta._saldo\n",
        "for conta in sorted(contas, key=extrai_saldo):\n",
        "  print(conta)\n"
      ],
      "execution_count": 177,
      "outputs": [
        {
          "output_type": "stream",
          "name": "stdout",
          "text": [
            "[>>Codigo 13 Saldo 500<<]\n",
            "[>>Codigo 1 Saldo 510<<]\n",
            "[>>Codigo 15 Saldo 1000<<]\n"
          ]
        }
      ]
    },
    {
      "cell_type": "code",
      "metadata": {
        "colab": {
          "base_uri": "https://localhost:8080/"
        },
        "id": "iTTt1244Gb51",
        "outputId": "d2403c69-b8a0-4914-abe1-df0d4b384ea5"
      },
      "source": [
        "# Acessando o atributo _saldo indiretamente através to attrgetter\n",
        "\n",
        "from operator import attrgetter\n",
        "\n",
        "for conta in sorted(contas, key=attrgetter(\"_saldo\")): \n",
        "  print(conta)\n"
      ],
      "execution_count": 178,
      "outputs": [
        {
          "output_type": "stream",
          "name": "stdout",
          "text": [
            "[>>Codigo 13 Saldo 500<<]\n",
            "[>>Codigo 1 Saldo 510<<]\n",
            "[>>Codigo 15 Saldo 1000<<]\n"
          ]
        }
      ]
    },
    {
      "cell_type": "code",
      "metadata": {
        "id": "OzhsYQ1uHMtu"
      },
      "source": [
        "class ContaSalario:\n",
        "\n",
        "  def __init__(self, codigo):\n",
        "    self._codigo = codigo\n",
        "    self._saldo = 0\n",
        "\n",
        "  def __eq__(self, outro):\n",
        "    if type(outro) != ContaSalario:\n",
        "      return False\n",
        "\n",
        "    return self._codigo == outro._codigo and self._saldo == outro._saldo\n",
        "\n",
        "  def __lt__(self, outro):\n",
        "    return self._saldo < outro._saldo\n",
        "\n",
        "  def deposita(self, valor):\n",
        "    self._saldo += valor\n",
        "\n",
        "  def __str__(self):\n",
        "    return \"[>>Codigo {} Saldo {}<<]\".format(self._codigo, self._saldo)\n",
        "\n",
        "class ContaMultiploSalario(ContaSalario):\n",
        "  pass"
      ],
      "execution_count": 180,
      "outputs": []
    },
    {
      "cell_type": "code",
      "metadata": {
        "id": "m4AFaYUMH8Fl"
      },
      "source": [
        "conta_salario_rafa = ContaSalario(13)\n",
        "conta_salario_rafa.deposita(500)\n",
        "\n",
        "conta_salario_karol = ContaSalario(15)\n",
        "conta_salario_karol.deposita(1000)\n",
        "\n",
        "conta_salario_lele = ContaSalario(1)\n",
        "conta_salario_lele.deposita(510)\n",
        "\n",
        "contas = [conta_salario_karol, conta_salario_lele, conta_salario_rafa]"
      ],
      "execution_count": 181,
      "outputs": []
    },
    {
      "cell_type": "code",
      "metadata": {
        "colab": {
          "base_uri": "https://localhost:8080/"
        },
        "id": "saT7x2ooH8jF",
        "outputId": "8585415d-909c-449a-fd32-9dee4807bcff"
      },
      "source": [
        "conta_salario_karol > conta_salario_rafa"
      ],
      "execution_count": 182,
      "outputs": [
        {
          "output_type": "execute_result",
          "data": {
            "text/plain": [
              "True"
            ]
          },
          "metadata": {},
          "execution_count": 182
        }
      ]
    },
    {
      "cell_type": "code",
      "metadata": {
        "colab": {
          "base_uri": "https://localhost:8080/"
        },
        "id": "TgY7oexPIHH1",
        "outputId": "3d18ec66-faae-474a-e596-4face7823a9e"
      },
      "source": [
        "conta_salario_karol < conta_salario_rafa"
      ],
      "execution_count": 183,
      "outputs": [
        {
          "output_type": "execute_result",
          "data": {
            "text/plain": [
              "False"
            ]
          },
          "metadata": {},
          "execution_count": 183
        }
      ]
    },
    {
      "cell_type": "code",
      "metadata": {
        "colab": {
          "base_uri": "https://localhost:8080/"
        },
        "id": "n6m2Bx9-ILEN",
        "outputId": "b6d8617e-85ae-4111-aa80-80cb70092574"
      },
      "source": [
        "for conta in sorted(contas, reverse=True):\n",
        "  print(conta)"
      ],
      "execution_count": 186,
      "outputs": [
        {
          "output_type": "stream",
          "name": "stdout",
          "text": [
            "[>>Codigo 15 Saldo 1000<<]\n",
            "[>>Codigo 1 Saldo 510<<]\n",
            "[>>Codigo 13 Saldo 500<<]\n"
          ]
        }
      ]
    },
    {
      "cell_type": "code",
      "metadata": {
        "id": "-yvfJ64GISTV"
      },
      "source": [
        "conta_salario_rafa = ContaSalario(1300)\n",
        "conta_salario_rafa.deposita(500)\n",
        "\n",
        "conta_salario_karol = ContaSalario(15)\n",
        "conta_salario_karol.deposita(500)\n",
        "\n",
        "conta_salario_lele = ContaSalario(10)\n",
        "conta_salario_lele.deposita(500)\n",
        "\n",
        "contas = [conta_salario_karol, conta_salario_lele, conta_salario_rafa]"
      ],
      "execution_count": 197,
      "outputs": []
    },
    {
      "cell_type": "code",
      "metadata": {
        "colab": {
          "base_uri": "https://localhost:8080/"
        },
        "id": "R2L5ey9xKUvc",
        "outputId": "279b246d-bef7-48fe-e42e-76dabf8162fa"
      },
      "source": [
        "for conta in sorted(contas, key=attrgetter(\"_saldo\", \"_codigo\")): \n",
        "  print(conta)\n"
      ],
      "execution_count": 190,
      "outputs": [
        {
          "output_type": "stream",
          "name": "stdout",
          "text": [
            "[>>Codigo 10 Saldo 500<<]\n",
            "[>>Codigo 15 Saldo 500<<]\n",
            "[>>Codigo 1300 Saldo 500<<]\n"
          ]
        }
      ]
    },
    {
      "cell_type": "code",
      "metadata": {
        "id": "GGFmS5WFKe8N"
      },
      "source": [
        "class ContaSalario:\n",
        "\n",
        "  def __init__(self, codigo):\n",
        "    self._codigo = codigo\n",
        "    self._saldo = 0\n",
        "\n",
        "  def __eq__(self, outro):\n",
        "    if type(outro) != ContaSalario:\n",
        "      return False\n",
        "\n",
        "    return self._codigo == outro._codigo and self._saldo == outro._saldo\n",
        "\n",
        "  def __lt__(self, outro):\n",
        "    if self._saldo != outro._saldo:\n",
        "      return self._saldo < outro._saldo\n",
        "    \n",
        "    return self._codigo < outro._codigo\n",
        "\n",
        "  def deposita(self, valor):\n",
        "    self._saldo += valor\n",
        "\n",
        "  def __str__(self):\n",
        "    return \"[>>Codigo {} Saldo {}<<]\".format(self._codigo, self._saldo)\n",
        "\n",
        "class ContaMultiploSalario(ContaSalario):\n",
        "  pass"
      ],
      "execution_count": 202,
      "outputs": []
    },
    {
      "cell_type": "code",
      "metadata": {
        "id": "P3pXopmrLdnj"
      },
      "source": [
        "conta_salario_rafa = ContaSalario(1300)\n",
        "conta_salario_rafa.deposita(500)\n",
        "\n",
        "conta_salario_karol = ContaSalario(15)\n",
        "conta_salario_karol.deposita(500)\n",
        "\n",
        "conta_salario_lele = ContaSalario(10)\n",
        "conta_salario_lele.deposita(500)\n",
        "\n",
        "contas = [conta_salario_karol, conta_salario_lele, conta_salario_rafa]"
      ],
      "execution_count": 203,
      "outputs": []
    },
    {
      "cell_type": "code",
      "metadata": {
        "colab": {
          "base_uri": "https://localhost:8080/"
        },
        "id": "C-nRXBxBLE-8",
        "outputId": "1d2cb8c7-43d4-4a5c-f475-59725eaef3b7"
      },
      "source": [
        "for conta in sorted(contas): \n",
        "  print(conta)"
      ],
      "execution_count": 204,
      "outputs": [
        {
          "output_type": "stream",
          "name": "stdout",
          "text": [
            "[>>Codigo 10 Saldo 500<<]\n",
            "[>>Codigo 15 Saldo 500<<]\n",
            "[>>Codigo 1300 Saldo 500<<]\n"
          ]
        }
      ]
    },
    {
      "cell_type": "code",
      "metadata": {
        "id": "c8LCQGBLLdGB"
      },
      "source": [
        "conta_salario_rafa = ContaSalario(1300)\n",
        "conta_salario_rafa.deposita(500)\n",
        "\n",
        "conta_salario_karol = ContaSalario(15)\n",
        "conta_salario_karol.deposita(1000)\n",
        "\n",
        "conta_salario_lele = ContaSalario(10)\n",
        "conta_salario_lele.deposita(500)\n",
        "\n",
        "contas = [conta_salario_karol, conta_salario_lele, conta_salario_rafa]"
      ],
      "execution_count": 205,
      "outputs": []
    },
    {
      "cell_type": "code",
      "metadata": {
        "colab": {
          "base_uri": "https://localhost:8080/"
        },
        "id": "7ycnoM2mLGX0",
        "outputId": "1ddc3050-e0d1-428c-d594-588385ac5763"
      },
      "source": [
        "conta_salario_karol < conta_salario_rafa"
      ],
      "execution_count": 206,
      "outputs": [
        {
          "output_type": "execute_result",
          "data": {
            "text/plain": [
              "False"
            ]
          },
          "metadata": {},
          "execution_count": 206
        }
      ]
    },
    {
      "cell_type": "code",
      "metadata": {
        "id": "IKVkA8w5MI_0"
      },
      "source": [
        "from functools import total_ordering\n",
        "\n",
        "@total_ordering\n",
        "class ContaSalario:\n",
        "\n",
        "  def __init__(self, codigo):\n",
        "    self._codigo = codigo\n",
        "    self._saldo = 0\n",
        "\n",
        "  def __eq__(self, outro):\n",
        "    if type(outro) != ContaSalario:\n",
        "      return False\n",
        "\n",
        "    return self._codigo == outro._codigo and self._saldo == outro._saldo\n",
        "\n",
        "  def __lt__(self, outro):\n",
        "    if self._saldo != outro._saldo:\n",
        "      return self._saldo < outro._saldo\n",
        "    \n",
        "    return self._codigo < outro._codigo\n",
        "\n",
        "  def deposita(self, valor):\n",
        "    self._saldo += valor\n",
        "\n",
        "  def __str__(self):\n",
        "    return \"[>>Codigo {} Saldo {}<<]\".format(self._codigo, self._saldo)\n",
        "\n",
        "class ContaMultiploSalario(ContaSalario):\n",
        "  pass"
      ],
      "execution_count": 208,
      "outputs": []
    },
    {
      "cell_type": "code",
      "metadata": {
        "id": "_MqKM5NuMz4t"
      },
      "source": [
        "conta_salario_rafa = ContaSalario(1300)\n",
        "conta_salario_rafa.deposita(500)\n",
        "\n",
        "conta_salario_karol = ContaSalario(15)\n",
        "conta_salario_karol.deposita(1000)\n",
        "\n",
        "conta_salario_lele = ContaSalario(10)\n",
        "conta_salario_lele.deposita(500)\n",
        "\n",
        "contas = [conta_salario_karol, conta_salario_lele, conta_salario_rafa]"
      ],
      "execution_count": 209,
      "outputs": []
    },
    {
      "cell_type": "code",
      "metadata": {
        "colab": {
          "base_uri": "https://localhost:8080/"
        },
        "id": "EQiroGrRM4Ad",
        "outputId": "fa1cfc82-e864-4673-ad5b-ee142d206161"
      },
      "source": [
        "conta_salario_karol <= conta_salario_rafa"
      ],
      "execution_count": 210,
      "outputs": [
        {
          "output_type": "execute_result",
          "data": {
            "text/plain": [
              "False"
            ]
          },
          "metadata": {},
          "execution_count": 210
        }
      ]
    },
    {
      "cell_type": "code",
      "metadata": {
        "colab": {
          "base_uri": "https://localhost:8080/"
        },
        "id": "InWtJEaIM611",
        "outputId": "3f7f9b02-bbd9-48f3-c3cb-04a999b7a1fa"
      },
      "source": [
        "conta_salario_lele < conta_salario_rafa"
      ],
      "execution_count": 213,
      "outputs": [
        {
          "output_type": "execute_result",
          "data": {
            "text/plain": [
              "True"
            ]
          },
          "metadata": {},
          "execution_count": 213
        }
      ]
    },
    {
      "cell_type": "code",
      "metadata": {
        "colab": {
          "base_uri": "https://localhost:8080/"
        },
        "id": "-8h9P9M9M9zl",
        "outputId": "c43d625a-ec97-45dd-fc88-dbd52263ced8"
      },
      "source": [
        "conta_salario_lele <= conta_salario_rafa"
      ],
      "execution_count": 214,
      "outputs": [
        {
          "output_type": "execute_result",
          "data": {
            "text/plain": [
              "True"
            ]
          },
          "metadata": {},
          "execution_count": 214
        }
      ]
    },
    {
      "cell_type": "code",
      "metadata": {
        "colab": {
          "base_uri": "https://localhost:8080/"
        },
        "id": "pS2gzdC9NBHc",
        "outputId": "a0da0d0b-a3fe-4e5d-defe-acc89102eaee"
      },
      "source": [
        "conta_salario_rafa <= conta_salario_rafa"
      ],
      "execution_count": 216,
      "outputs": [
        {
          "output_type": "execute_result",
          "data": {
            "text/plain": [
              "True"
            ]
          },
          "metadata": {},
          "execution_count": 216
        }
      ]
    },
    {
      "cell_type": "code",
      "metadata": {
        "colab": {
          "base_uri": "https://localhost:8080/"
        },
        "id": "gPgykPP-NGJ1",
        "outputId": "59b4e7f1-b2a1-42f6-ca6a-a6dee8a4631b"
      },
      "source": [
        " conta_salario_rafa == conta_salario_rafa"
      ],
      "execution_count": 217,
      "outputs": [
        {
          "output_type": "execute_result",
          "data": {
            "text/plain": [
              "True"
            ]
          },
          "metadata": {},
          "execution_count": 217
        }
      ]
    },
    {
      "cell_type": "code",
      "metadata": {
        "colab": {
          "base_uri": "https://localhost:8080/"
        },
        "id": "MTfEuoowNIf0",
        "outputId": "f5ed25a3-1234-4519-e38a-0d8ef353de34"
      },
      "source": [
        " conta_salario_rafa < conta_salario_rafa"
      ],
      "execution_count": 218,
      "outputs": [
        {
          "output_type": "execute_result",
          "data": {
            "text/plain": [
              "False"
            ]
          },
          "metadata": {},
          "execution_count": 218
        }
      ]
    },
    {
      "cell_type": "code",
      "metadata": {
        "id": "52jiU8yUNLJ2"
      },
      "source": [
        ""
      ],
      "execution_count": null,
      "outputs": []
    }
  ]
}