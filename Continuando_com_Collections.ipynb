{
  "nbformat": 4,
  "nbformat_minor": 0,
  "metadata": {
    "colab": {
      "name": "Continuando com Collections.ipynb",
      "provenance": [],
      "authorship_tag": "ABX9TyMy4gF0iuVkoGX3qxIF9gRk",
      "include_colab_link": true
    },
    "kernelspec": {
      "name": "python3",
      "display_name": "Python 3"
    },
    "language_info": {
      "name": "python"
    }
  },
  "cells": [
    {
      "cell_type": "markdown",
      "metadata": {
        "id": "view-in-github",
        "colab_type": "text"
      },
      "source": [
        "<a href=\"https://colab.research.google.com/github/Jumbeba/python_collections/blob/main/Continuando_com_Collections.ipynb\" target=\"_parent\"><img src=\"https://colab.research.google.com/assets/colab-badge.svg\" alt=\"Open In Colab\"/></a>"
      ]
    },
    {
      "cell_type": "code",
      "metadata": {
        "id": "3phr_v4KQuuc"
      },
      "source": [
        "usuarios_data_science = [15, 23, 43, 56]\n",
        "usuarios_machine_learning = [13, 23, 56, 42]"
      ],
      "execution_count": null,
      "outputs": []
    },
    {
      "cell_type": "code",
      "metadata": {
        "colab": {
          "base_uri": "https://localhost:8080/"
        },
        "id": "-3psrqpJRFn8",
        "outputId": "10fda0d8-00d2-42ba-e368-b2b33f148712"
      },
      "source": [
        "assistiram = usuarios_data_science.copy()\n",
        "assistiram.extend(usuarios_machine_learning)\n",
        "assistiram"
      ],
      "execution_count": null,
      "outputs": [
        {
          "output_type": "execute_result",
          "data": {
            "text/plain": [
              "[15, 23, 43, 56, 13, 23, 56, 42]"
            ]
          },
          "metadata": {},
          "execution_count": 4
        }
      ]
    },
    {
      "cell_type": "code",
      "metadata": {
        "colab": {
          "base_uri": "https://localhost:8080/"
        },
        "id": "rIswpabqRYkc",
        "outputId": "f9a5c904-d6a0-49be-ec1c-40a3de4d96fd"
      },
      "source": [
        "sorted(assistiram) # Ordenando a lista"
      ],
      "execution_count": null,
      "outputs": [
        {
          "output_type": "execute_result",
          "data": {
            "text/plain": [
              "[13, 15, 23, 23, 42, 43, 56, 56]"
            ]
          },
          "metadata": {},
          "execution_count": 10
        }
      ]
    },
    {
      "cell_type": "code",
      "metadata": {
        "colab": {
          "base_uri": "https://localhost:8080/"
        },
        "id": "nOzIHX8FR0U0",
        "outputId": "2de2c044-b5a6-4633-929e-138af7b197de"
      },
      "source": [
        "set(assistiram) # Criando conjunto (Conjuntos exclui valores repetidos)"
      ],
      "execution_count": null,
      "outputs": [
        {
          "output_type": "execute_result",
          "data": {
            "text/plain": [
              "{13, 15, 23, 42, 43, 56}"
            ]
          },
          "metadata": {},
          "execution_count": 11
        }
      ]
    },
    {
      "cell_type": "code",
      "metadata": {
        "id": "N4LErE7OSd0c"
      },
      "source": [
        "usuarios_data_science = {15, 23, 43, 56}\n",
        "usuarios_machine_learning = {13, 23, 56, 42}"
      ],
      "execution_count": null,
      "outputs": []
    },
    {
      "cell_type": "code",
      "metadata": {
        "colab": {
          "base_uri": "https://localhost:8080/",
          "height": 163
        },
        "id": "fORID1SJShRc",
        "outputId": "9e6df860-2e82-4e25-a8d4-2e9c9f745f18"
      },
      "source": [
        "usuarios_data_science[3] # Conjunto não tem indexação (Não pode ser separado, não possui ordem)"
      ],
      "execution_count": null,
      "outputs": [
        {
          "output_type": "error",
          "ename": "TypeError",
          "evalue": "ignored",
          "traceback": [
            "\u001b[0;31m---------------------------------------------------------------------------\u001b[0m",
            "\u001b[0;31mTypeError\u001b[0m                                 Traceback (most recent call last)",
            "\u001b[0;32m<ipython-input-15-47bffcb52161>\u001b[0m in \u001b[0;36m<module>\u001b[0;34m()\u001b[0m\n\u001b[0;32m----> 1\u001b[0;31m \u001b[0musuarios_data_science\u001b[0m\u001b[0;34m[\u001b[0m\u001b[0;36m3\u001b[0m\u001b[0;34m]\u001b[0m\u001b[0;34m\u001b[0m\u001b[0;34m\u001b[0m\u001b[0m\n\u001b[0m",
            "\u001b[0;31mTypeError\u001b[0m: 'set' object is not subscriptable"
          ]
        }
      ]
    },
    {
      "cell_type": "code",
      "metadata": {
        "colab": {
          "base_uri": "https://localhost:8080/"
        },
        "id": "6f8-ZP7rTURM",
        "outputId": "352ef3eb-11ac-4d17-e292-e3c59efe35f3"
      },
      "source": [
        "for usuario in set(assistiram):\n",
        "  print(usuario)"
      ],
      "execution_count": null,
      "outputs": [
        {
          "output_type": "stream",
          "name": "stdout",
          "text": [
            "42\n",
            "43\n",
            "13\n",
            "15\n",
            "23\n",
            "56\n"
          ]
        }
      ]
    },
    {
      "cell_type": "code",
      "metadata": {
        "id": "u5gpaKg2Tjwj"
      },
      "source": [
        "usuarios_data_science = {15, 23, 43, 56}\n",
        "usuarios_machine_learning = {13, 23, 56, 42}"
      ],
      "execution_count": null,
      "outputs": []
    },
    {
      "cell_type": "code",
      "metadata": {
        "colab": {
          "base_uri": "https://localhost:8080/"
        },
        "id": "u2v1vs8mTx1U",
        "outputId": "fd5c260e-80ef-466d-afcd-933979d4b423"
      },
      "source": [
        "usuarios_data_science | usuarios_machine_learning # Use o \"|\"\" que é igual a \"ou\", faz a união de conjuntos (neste OU neste)"
      ],
      "execution_count": null,
      "outputs": [
        {
          "output_type": "execute_result",
          "data": {
            "text/plain": [
              "{13, 15, 23, 42, 43, 56}"
            ]
          },
          "metadata": {},
          "execution_count": 18
        }
      ]
    },
    {
      "cell_type": "code",
      "metadata": {
        "colab": {
          "base_uri": "https://localhost:8080/"
        },
        "id": "F8gJ4oexT28k",
        "outputId": "0b7df174-d5cc-4302-c5f9-dd7198068216"
      },
      "source": [
        "usuarios_data_science & usuarios_machine_learning # Use o \"&\" que é igual a \"E\", faz a intersessão dos conjuntos (neste E neste)"
      ],
      "execution_count": null,
      "outputs": [
        {
          "output_type": "execute_result",
          "data": {
            "text/plain": [
              "{23, 56}"
            ]
          },
          "metadata": {},
          "execution_count": 19
        }
      ]
    },
    {
      "cell_type": "code",
      "metadata": {
        "colab": {
          "base_uri": "https://localhost:8080/"
        },
        "id": "mUF8XUg1Ui28",
        "outputId": "7f5a86a9-813b-43b1-a7ad-4dc59192ec94"
      },
      "source": [
        "usuarios_data_science - usuarios_machine_learning # Use o \"-\" que faz a separação dos dados que estão em A mas NÃO estão em B"
      ],
      "execution_count": null,
      "outputs": [
        {
          "output_type": "execute_result",
          "data": {
            "text/plain": [
              "{15, 43}"
            ]
          },
          "metadata": {},
          "execution_count": 20
        }
      ]
    },
    {
      "cell_type": "code",
      "metadata": {
        "colab": {
          "base_uri": "https://localhost:8080/"
        },
        "id": "ZLpLwCgTVDpD",
        "outputId": "48e7d9ab-1e8e-41a0-fb7e-ecf67a6baf14"
      },
      "source": [
        "usuarios_data_science ^ usuarios_machine_learning # Use o \"^\" que faz a separação valores que estão em A e em B, mas não estão em A e B ao mesmo tempo\n",
        "# \"Ou exclusivo\""
      ],
      "execution_count": null,
      "outputs": [
        {
          "output_type": "execute_result",
          "data": {
            "text/plain": [
              "{13, 15, 42, 43}"
            ]
          },
          "metadata": {},
          "execution_count": 23
        }
      ]
    },
    {
      "cell_type": "code",
      "metadata": {
        "colab": {
          "base_uri": "https://localhost:8080/"
        },
        "id": "OTNR1F0sVMdT",
        "outputId": "95a5e81f-7cc8-4e63-da87-7781f97d946c"
      },
      "source": [
        "fez_ds_e_nao_fez_ml = usuarios_data_science - usuarios_machine_learning\n",
        "15 in fez_ds_e_nao_fez_ml"
      ],
      "execution_count": null,
      "outputs": [
        {
          "output_type": "execute_result",
          "data": {
            "text/plain": [
              "True"
            ]
          },
          "metadata": {},
          "execution_count": 24
        }
      ]
    },
    {
      "cell_type": "code",
      "metadata": {
        "id": "XheEDm3yWg2D"
      },
      "source": [
        ""
      ],
      "execution_count": null,
      "outputs": []
    },
    {
      "cell_type": "markdown",
      "metadata": {
        "id": "LXx3osTZWiWr"
      },
      "source": [
        "Modificando os conjuntos em tempo real (conjuntos são mutáveis)"
      ]
    },
    {
      "cell_type": "code",
      "metadata": {
        "colab": {
          "base_uri": "https://localhost:8080/"
        },
        "id": "M13CCKu0WlLe",
        "outputId": "df7e2d57-4814-43f3-9e5e-0d383c763d48"
      },
      "source": [
        "usuarios = {1,5,76,34,52,13,17}\n",
        "len(usuarios)"
      ],
      "execution_count": null,
      "outputs": [
        {
          "output_type": "execute_result",
          "data": {
            "text/plain": [
              "7"
            ]
          },
          "metadata": {},
          "execution_count": 25
        }
      ]
    },
    {
      "cell_type": "code",
      "metadata": {
        "colab": {
          "base_uri": "https://localhost:8080/"
        },
        "id": "m1cExUy0WwA0",
        "outputId": "6ebe8946-7026-4e2b-d16f-fb3c4eb6b85f"
      },
      "source": [
        "usuarios.add(145) # Método para adicionar um novo valor ao conjunto (não pode adicionar elementos iguais)\n",
        "len(usuarios)"
      ],
      "execution_count": null,
      "outputs": [
        {
          "output_type": "execute_result",
          "data": {
            "text/plain": [
              "8"
            ]
          },
          "metadata": {},
          "execution_count": 29
        }
      ]
    },
    {
      "cell_type": "code",
      "metadata": {
        "colab": {
          "base_uri": "https://localhost:8080/"
        },
        "id": "yROEIszqW1Vs",
        "outputId": "130f81d0-990a-46e0-9b3f-941b5ea15c17"
      },
      "source": [
        "usuarios"
      ],
      "execution_count": null,
      "outputs": [
        {
          "output_type": "execute_result",
          "data": {
            "text/plain": [
              "{1, 5, 13, 17, 34, 52, 76, 145}"
            ]
          },
          "metadata": {},
          "execution_count": 30
        }
      ]
    },
    {
      "cell_type": "code",
      "metadata": {
        "colab": {
          "base_uri": "https://localhost:8080/"
        },
        "id": "p4OIg_m6XJQ8",
        "outputId": "34d3b79b-7761-42f1-d05e-78a35eb4a078"
      },
      "source": [
        "usuarios = frozenset(usuarios) # Para deixar o conjunto imutável\n",
        "usuarios"
      ],
      "execution_count": null,
      "outputs": [
        {
          "output_type": "execute_result",
          "data": {
            "text/plain": [
              "frozenset({1, 5, 13, 17, 34, 52, 76, 145})"
            ]
          },
          "metadata": {},
          "execution_count": 31
        }
      ]
    },
    {
      "cell_type": "code",
      "metadata": {
        "colab": {
          "base_uri": "https://localhost:8080/"
        },
        "id": "NyK2KcmIXUR7",
        "outputId": "3756cae8-5cc5-4d45-98a6-738119779162"
      },
      "source": [
        "meu_texto = \"Aqui você pode digitar qualquer texto e com esse texto pode quebrar todo do jeito que voce quiser e transformar em lista por exemplo\"\n",
        "set(meu_texto.split()) #Use \"set\" para retirar as duplicidades do texto"
      ],
      "execution_count": null,
      "outputs": [
        {
          "output_type": "execute_result",
          "data": {
            "text/plain": [
              "{'Aqui',\n",
              " 'com',\n",
              " 'digitar',\n",
              " 'do',\n",
              " 'e',\n",
              " 'em',\n",
              " 'esse',\n",
              " 'exemplo',\n",
              " 'jeito',\n",
              " 'lista',\n",
              " 'pode',\n",
              " 'por',\n",
              " 'qualquer',\n",
              " 'que',\n",
              " 'quebrar',\n",
              " 'quiser',\n",
              " 'texto',\n",
              " 'todo',\n",
              " 'transformar',\n",
              " 'voce',\n",
              " 'você'}"
            ]
          },
          "metadata": {},
          "execution_count": 33
        }
      ]
    },
    {
      "cell_type": "markdown",
      "metadata": {
        "id": "Q6Up3xM1Zwf2"
      },
      "source": [
        "# **Dicionário (Mapa etc)**"
      ]
    },
    {
      "cell_type": "code",
      "metadata": {
        "id": "Six7LMwuZzeL"
      },
      "source": [
        "aparicoes = {\n",
        "'Aqui' : 1,\n",
        "'exemplo' : 2,\n",
        "'Texto' : 2\n",
        "}"
      ],
      "execution_count": null,
      "outputs": []
    },
    {
      "cell_type": "code",
      "metadata": {
        "colab": {
          "base_uri": "https://localhost:8080/"
        },
        "id": "xzYfFUeWaLRr",
        "outputId": "2d3cd848-f77b-49a7-89be-636c084f5275"
      },
      "source": [
        "type(aparicoes)"
      ],
      "execution_count": null,
      "outputs": [
        {
          "output_type": "execute_result",
          "data": {
            "text/plain": [
              "dict"
            ]
          },
          "metadata": {},
          "execution_count": 39
        }
      ]
    },
    {
      "cell_type": "code",
      "metadata": {
        "colab": {
          "base_uri": "https://localhost:8080/"
        },
        "id": "sHXaRAqZaUZj",
        "outputId": "a2a8f233-3f4a-4908-e2f7-548ac6564a4e"
      },
      "source": [
        "aparicoes['Aqui']"
      ],
      "execution_count": null,
      "outputs": [
        {
          "output_type": "execute_result",
          "data": {
            "text/plain": [
              "1"
            ]
          },
          "metadata": {},
          "execution_count": 40
        }
      ]
    },
    {
      "cell_type": "code",
      "metadata": {
        "colab": {
          "base_uri": "https://localhost:8080/"
        },
        "id": "E6iSRZpeadCb",
        "outputId": "ca802887-7690-4ce4-d771-9a2902f45f17"
      },
      "source": [
        "aparicoes['Texto']"
      ],
      "execution_count": null,
      "outputs": [
        {
          "output_type": "execute_result",
          "data": {
            "text/plain": [
              "2"
            ]
          },
          "metadata": {},
          "execution_count": 41
        }
      ]
    },
    {
      "cell_type": "code",
      "metadata": {
        "colab": {
          "base_uri": "https://localhost:8080/",
          "height": 163
        },
        "id": "NFlGRXSpahxL",
        "outputId": "e43bfeab-a159-44b0-dfc7-e9d8fdc18072"
      },
      "source": [
        "aparicoes[\"xpto\"]"
      ],
      "execution_count": null,
      "outputs": [
        {
          "output_type": "error",
          "ename": "KeyError",
          "evalue": "ignored",
          "traceback": [
            "\u001b[0;31m---------------------------------------------------------------------------\u001b[0m",
            "\u001b[0;31mKeyError\u001b[0m                                  Traceback (most recent call last)",
            "\u001b[0;32m<ipython-input-42-5844a27a46e4>\u001b[0m in \u001b[0;36m<module>\u001b[0;34m()\u001b[0m\n\u001b[0;32m----> 1\u001b[0;31m \u001b[0maparicoes\u001b[0m\u001b[0;34m[\u001b[0m\u001b[0;34m\"xpto\"\u001b[0m\u001b[0;34m]\u001b[0m\u001b[0;34m\u001b[0m\u001b[0;34m\u001b[0m\u001b[0m\n\u001b[0m",
            "\u001b[0;31mKeyError\u001b[0m: 'xpto'"
          ]
        }
      ]
    },
    {
      "cell_type": "code",
      "metadata": {
        "colab": {
          "base_uri": "https://localhost:8080/",
          "height": 35
        },
        "id": "q-Ug-qwUakaD",
        "outputId": "6600d5a6-a918-488e-bf86-6ea186a56a62"
      },
      "source": [
        "aparicoes.get('xpto', \"Não aparece\") #Procurando quando não tem"
      ],
      "execution_count": null,
      "outputs": [
        {
          "output_type": "execute_result",
          "data": {
            "application/vnd.google.colaboratory.intrinsic+json": {
              "type": "string"
            },
            "text/plain": [
              "'Não aparece'"
            ]
          },
          "metadata": {},
          "execution_count": 66
        }
      ]
    },
    {
      "cell_type": "code",
      "metadata": {
        "colab": {
          "base_uri": "https://localhost:8080/"
        },
        "id": "aEm2tjS5asTL",
        "outputId": "84846ff3-bbd3-463d-8d60-d2f056f5111e"
      },
      "source": [
        "aparicoes.get('exemplo', \"Não aparece\") #Procurando quando tem"
      ],
      "execution_count": null,
      "outputs": [
        {
          "output_type": "execute_result",
          "data": {
            "text/plain": [
              "2"
            ]
          },
          "metadata": {},
          "execution_count": 67
        }
      ]
    },
    {
      "cell_type": "code",
      "metadata": {
        "id": "9wJI9lKZaxRL"
      },
      "source": [
        "aparicoes = dict(Rafa = 2, Cachorro = 3) # Outro jeito de criar dicionários"
      ],
      "execution_count": null,
      "outputs": []
    },
    {
      "cell_type": "code",
      "metadata": {
        "colab": {
          "base_uri": "https://localhost:8080/"
        },
        "id": "hjrkBWkBa9wL",
        "outputId": "1ca612de-9630-4406-bca0-01d43c235a16"
      },
      "source": [
        "aparicoes"
      ],
      "execution_count": null,
      "outputs": [
        {
          "output_type": "execute_result",
          "data": {
            "text/plain": [
              "{'Cachorro': 3, 'Rafa': 2}"
            ]
          },
          "metadata": {},
          "execution_count": 46
        }
      ]
    },
    {
      "cell_type": "code",
      "metadata": {
        "id": "3OA8U2ERa-_k"
      },
      "source": [
        "aparicoes = {\n",
        "'Aqui' : 1,\n",
        "'exemplo' : 2,\n",
        "'Texto' : 2\n",
        "}"
      ],
      "execution_count": null,
      "outputs": []
    },
    {
      "cell_type": "code",
      "metadata": {
        "colab": {
          "base_uri": "https://localhost:8080/"
        },
        "id": "bmJDB-g1bBbL",
        "outputId": "2222a006-ea30-41ef-f4d4-f765f2ca4436"
      },
      "source": [
        "aparicoes[\"Rafa\"] = 5 #Adicionando elementos\n",
        "aparicoes"
      ],
      "execution_count": null,
      "outputs": [
        {
          "output_type": "execute_result",
          "data": {
            "text/plain": [
              "{'Aqui': 1, 'Rafa': 5, 'Texto': 2, 'exemplo': 2}"
            ]
          },
          "metadata": {},
          "execution_count": 52
        }
      ]
    },
    {
      "cell_type": "code",
      "metadata": {
        "colab": {
          "base_uri": "https://localhost:8080/"
        },
        "id": "g1H-9s3ubYfD",
        "outputId": "81632f0f-b8d9-4bf8-f50b-93a78698dfc6"
      },
      "source": [
        "aparicoes[\"Rafa\"] = 7 #Alterando propriedade do elemento\n",
        "aparicoes"
      ],
      "execution_count": null,
      "outputs": [
        {
          "output_type": "execute_result",
          "data": {
            "text/plain": [
              "{'Aqui': 1, 'Rafa': 7, 'Texto': 2, 'exemplo': 2}"
            ]
          },
          "metadata": {},
          "execution_count": 53
        }
      ]
    },
    {
      "cell_type": "code",
      "metadata": {
        "colab": {
          "base_uri": "https://localhost:8080/"
        },
        "id": "BQwCwvxqbZbb",
        "outputId": "338cb69c-5f7f-4409-dad8-5f959be26485"
      },
      "source": [
        "del aparicoes[\"Rafa\"] #Removendo elemento\n",
        "aparicoes"
      ],
      "execution_count": null,
      "outputs": [
        {
          "output_type": "execute_result",
          "data": {
            "text/plain": [
              "{'Aqui': 1, 'Texto': 2, 'exemplo': 2}"
            ]
          },
          "metadata": {},
          "execution_count": 54
        }
      ]
    },
    {
      "cell_type": "code",
      "metadata": {
        "colab": {
          "base_uri": "https://localhost:8080/"
        },
        "id": "Hh1kDEfLblHK",
        "outputId": "673e771a-fb23-404f-9586-09b480f6df3a"
      },
      "source": [
        "\"exemplo\" in aparicoes #Procurando um valor nas chaves"
      ],
      "execution_count": null,
      "outputs": [
        {
          "output_type": "execute_result",
          "data": {
            "text/plain": [
              "True"
            ]
          },
          "metadata": {},
          "execution_count": 55
        }
      ]
    },
    {
      "cell_type": "code",
      "metadata": {
        "colab": {
          "base_uri": "https://localhost:8080/"
        },
        "id": "80JsSagqb7oj",
        "outputId": "33922ec6-fb08-4ec8-d1b5-c227a198aad8"
      },
      "source": [
        "for elementos in aparicoes: #Passando por todos os elementos\n",
        "  print(elementos)"
      ],
      "execution_count": null,
      "outputs": [
        {
          "output_type": "stream",
          "name": "stdout",
          "text": [
            "Aqui\n",
            "exemplo\n",
            "Texto\n"
          ]
        }
      ]
    },
    {
      "cell_type": "code",
      "metadata": {
        "colab": {
          "base_uri": "https://localhost:8080/"
        },
        "id": "709LMON4cORT",
        "outputId": "3f553bd1-6fe8-47e3-e651-a60520a31e65"
      },
      "source": [
        "for elementos in aparicoes.keys(): #Passando por todas as CHAVES do elemnto\n",
        "  print(elementos)"
      ],
      "execution_count": null,
      "outputs": [
        {
          "output_type": "stream",
          "name": "stdout",
          "text": [
            "Aqui\n",
            "exemplo\n",
            "Texto\n"
          ]
        }
      ]
    },
    {
      "cell_type": "code",
      "metadata": {
        "colab": {
          "base_uri": "https://localhost:8080/"
        },
        "id": "FiZvdIvecnz7",
        "outputId": "996dd752-8ecd-4a9c-cbde-8c8447af00f1"
      },
      "source": [
        "for elementos in aparicoes.values(): #Passando por todos os VALORES do elemento\n",
        "  print(elementos)"
      ],
      "execution_count": null,
      "outputs": [
        {
          "output_type": "stream",
          "name": "stdout",
          "text": [
            "1\n",
            "2\n",
            "2\n"
          ]
        }
      ]
    },
    {
      "cell_type": "code",
      "metadata": {
        "colab": {
          "base_uri": "https://localhost:8080/"
        },
        "id": "H02KjFCzcxPT",
        "outputId": "e68a5aa0-9766-4b1a-c59e-f9bcd6074b31"
      },
      "source": [
        "for elementos in aparicoes.keys(): #Passando por todas as CHAVES e VALORES do elemnto\n",
        "  valor = aparicoes[elementos]\n",
        "  print(elementos, valor)"
      ],
      "execution_count": null,
      "outputs": [
        {
          "output_type": "stream",
          "name": "stdout",
          "text": [
            "Aqui 1\n",
            "exemplo 2\n",
            "Texto 2\n"
          ]
        }
      ]
    },
    {
      "cell_type": "code",
      "metadata": {
        "colab": {
          "base_uri": "https://localhost:8080/"
        },
        "id": "TQAoOd7kc_AK",
        "outputId": "37578b33-131b-479a-cfee-189a8c3d9511"
      },
      "source": [
        "for elementos in aparicoes.items(): #Passando por todas as ITENS e VALORES de uma vez no dicionário\n",
        "  print(elementos)"
      ],
      "execution_count": null,
      "outputs": [
        {
          "output_type": "stream",
          "name": "stdout",
          "text": [
            "('Aqui', 1)\n",
            "('exemplo', 2)\n",
            "('Texto', 2)\n"
          ]
        }
      ]
    },
    {
      "cell_type": "code",
      "metadata": {
        "colab": {
          "base_uri": "https://localhost:8080/"
        },
        "id": "stp3MABFdMtr",
        "outputId": "3a1a4b66-156e-476b-e99f-53731bef9687"
      },
      "source": [
        "for chave, valor in aparicoes.items(): #desempacotando as tuplas\n",
        "  print(chave, \"=\", valor)"
      ],
      "execution_count": null,
      "outputs": [
        {
          "output_type": "stream",
          "name": "stdout",
          "text": [
            "Aqui = 1\n",
            "exemplo = 2\n",
            "Texto = 2\n"
          ]
        }
      ]
    },
    {
      "cell_type": "code",
      "metadata": {
        "colab": {
          "base_uri": "https://localhost:8080/"
        },
        "id": "JxM8adK8dfNa",
        "outputId": "f6c3257c-303d-46ca-9c82-75c80a226b2d"
      },
      "source": [
        "[\"Pode adicionar {}\".format(chave) for chave in aparicoes.keys()] #fazendo uma lista com as chaves\n"
      ],
      "execution_count": null,
      "outputs": [
        {
          "output_type": "execute_result",
          "data": {
            "text/plain": [
              "['Pode adicionar Aqui', 'Pode adicionar exemplo', 'Pode adicionar Texto']"
            ]
          },
          "metadata": {},
          "execution_count": 64
        }
      ]
    },
    {
      "cell_type": "code",
      "metadata": {
        "colab": {
          "base_uri": "https://localhost:8080/"
        },
        "id": "SudpANmid8kr",
        "outputId": "ed1e0b83-8fa9-455f-e127-2d4ab0b21567"
      },
      "source": [
        "meu_texto = \"Aqui você pode digitar qualquer texto e com esse texto pode quebrar todo do jeito que voce quiser e transformar em lista por exemplo\"\n",
        "meu_texto = meu_texto.lower()\n",
        "\n",
        "aparicoes = {}\n",
        "\n",
        "for palavra in meu_texto.split():\n",
        "  ate_agora = aparicoes.get(palavra, 0)\n",
        "  aparicoes[palavra] = ate_agora + 1\n",
        "\n",
        "aparicoes"
      ],
      "execution_count": null,
      "outputs": [
        {
          "output_type": "execute_result",
          "data": {
            "text/plain": [
              "{'aqui': 1,\n",
              " 'com': 1,\n",
              " 'digitar': 1,\n",
              " 'do': 1,\n",
              " 'e': 2,\n",
              " 'em': 1,\n",
              " 'esse': 1,\n",
              " 'exemplo': 1,\n",
              " 'jeito': 1,\n",
              " 'lista': 1,\n",
              " 'pode': 2,\n",
              " 'por': 1,\n",
              " 'qualquer': 1,\n",
              " 'que': 1,\n",
              " 'quebrar': 1,\n",
              " 'quiser': 1,\n",
              " 'texto': 2,\n",
              " 'todo': 1,\n",
              " 'transformar': 1,\n",
              " 'voce': 1,\n",
              " 'você': 1}"
            ]
          },
          "metadata": {},
          "execution_count": 76
        }
      ]
    },
    {
      "cell_type": "code",
      "metadata": {
        "colab": {
          "base_uri": "https://localhost:8080/"
        },
        "id": "--CHWn6WfDyr",
        "outputId": "53ef22fe-ec9d-47b8-aef8-ff0446285b39"
      },
      "source": [
        "from collections import defaultdict\n",
        "\n",
        "aparicoes = defaultdict(int) #dicionario com valor padrão. precisa de uma função para quando vazio\n",
        "\n",
        "for palavra in meu_texto.split():\n",
        "  ate_agora = aparicoes[palavra]\n",
        "  aparicoes[palavra] = ate_agora + 1\n",
        "\n",
        "aparicoes"
      ],
      "execution_count": null,
      "outputs": [
        {
          "output_type": "execute_result",
          "data": {
            "text/plain": [
              "defaultdict(int,\n",
              "            {'aqui': 1,\n",
              "             'com': 1,\n",
              "             'digitar': 1,\n",
              "             'do': 1,\n",
              "             'e': 2,\n",
              "             'em': 1,\n",
              "             'esse': 1,\n",
              "             'exemplo': 1,\n",
              "             'jeito': 1,\n",
              "             'lista': 1,\n",
              "             'pode': 2,\n",
              "             'por': 1,\n",
              "             'qualquer': 1,\n",
              "             'que': 1,\n",
              "             'quebrar': 1,\n",
              "             'quiser': 1,\n",
              "             'texto': 2,\n",
              "             'todo': 1,\n",
              "             'transformar': 1,\n",
              "             'voce': 1,\n",
              "             'você': 1})"
            ]
          },
          "metadata": {},
          "execution_count": 81
        }
      ]
    },
    {
      "cell_type": "code",
      "metadata": {
        "colab": {
          "base_uri": "https://localhost:8080/"
        },
        "id": "jLoaiVH_gqri",
        "outputId": "7ea27a7f-cffd-48e7-c636-012756e97922"
      },
      "source": [
        "dicionario = defaultdict(int)\n",
        "dicionario[\"rafa\"]"
      ],
      "execution_count": null,
      "outputs": [
        {
          "output_type": "execute_result",
          "data": {
            "text/plain": [
              "0"
            ]
          },
          "metadata": {},
          "execution_count": 85
        }
      ]
    },
    {
      "cell_type": "code",
      "metadata": {
        "colab": {
          "base_uri": "https://localhost:8080/"
        },
        "id": "KwiL3LTZhTHa",
        "outputId": "bca824ef-8688-4717-884d-8e6980e76255"
      },
      "source": [
        "dicionario[\"rafa\"] = 15\n",
        "dicionario[\"rafa\"]"
      ],
      "execution_count": null,
      "outputs": [
        {
          "output_type": "execute_result",
          "data": {
            "text/plain": [
              "15"
            ]
          },
          "metadata": {},
          "execution_count": 86
        }
      ]
    },
    {
      "cell_type": "code",
      "metadata": {
        "id": "CbucQHpQhWfa",
        "colab": {
          "base_uri": "https://localhost:8080/"
        },
        "outputId": "d9989256-dae2-4c3e-f5a1-34d50df5a8b5"
      },
      "source": [
        "# Para criar um contador simplicifaco\n",
        "\n",
        "aparicoes = defaultdict(int) \n",
        "\n",
        "for palavra in meu_texto.split():\n",
        "  aparicoes[palavra] += 1\n",
        "\n",
        "aparicoes"
      ],
      "execution_count": 99,
      "outputs": [
        {
          "output_type": "execute_result",
          "data": {
            "text/plain": [
              "defaultdict(int,\n",
              "            {'aqui': 1,\n",
              "             'com': 1,\n",
              "             'digitar': 1,\n",
              "             'do': 1,\n",
              "             'e': 2,\n",
              "             'em': 1,\n",
              "             'esse': 1,\n",
              "             'exemplo': 1,\n",
              "             'jeito': 1,\n",
              "             'lista': 1,\n",
              "             'pode': 2,\n",
              "             'por': 1,\n",
              "             'qualquer': 1,\n",
              "             'que': 1,\n",
              "             'quebrar': 1,\n",
              "             'quiser': 1,\n",
              "             'texto': 2,\n",
              "             'todo': 1,\n",
              "             'transformar': 1,\n",
              "             'voce': 1,\n",
              "             'você': 1})"
            ]
          },
          "metadata": {},
          "execution_count": 99
        }
      ]
    },
    {
      "cell_type": "code",
      "metadata": {
        "id": "GVgJL9fiqdTg"
      },
      "source": [
        "class Conta:\n",
        "  def __init__(self):\n",
        "    print(\"Imprimindo uma conta\")"
      ],
      "execution_count": 89,
      "outputs": []
    },
    {
      "cell_type": "code",
      "metadata": {
        "colab": {
          "base_uri": "https://localhost:8080/"
        },
        "id": "HjvyF4SRqi9p",
        "outputId": "0ef025bc-a28d-4841-8e31-62bfba0fb114"
      },
      "source": [
        "contas = defaultdict(Conta)\n",
        "contas[15]"
      ],
      "execution_count": 93,
      "outputs": [
        {
          "output_type": "stream",
          "name": "stdout",
          "text": [
            "Imprimindo uma conta\n"
          ]
        },
        {
          "output_type": "execute_result",
          "data": {
            "text/plain": [
              "<__main__.Conta at 0x7f7e6ad69050>"
            ]
          },
          "metadata": {},
          "execution_count": 93
        }
      ]
    },
    {
      "cell_type": "code",
      "metadata": {
        "colab": {
          "base_uri": "https://localhost:8080/"
        },
        "id": "JV-ZC8dEqoMh",
        "outputId": "05bce671-e973-47f2-fada-8afccbfb64ab"
      },
      "source": [
        "contas[17]"
      ],
      "execution_count": 94,
      "outputs": [
        {
          "output_type": "stream",
          "name": "stdout",
          "text": [
            "Imprimindo uma conta\n"
          ]
        },
        {
          "output_type": "execute_result",
          "data": {
            "text/plain": [
              "<__main__.Conta at 0x7f7e6acb6850>"
            ]
          },
          "metadata": {},
          "execution_count": 94
        }
      ]
    },
    {
      "cell_type": "code",
      "metadata": {
        "colab": {
          "base_uri": "https://localhost:8080/"
        },
        "id": "iShie-6pq2Kp",
        "outputId": "9642da50-2a5b-47fa-a4d8-ab1f6a35c967"
      },
      "source": [
        "#Criando um contador mais simplificado ainda!\n",
        "\n",
        "from collections import Counter \n",
        "\n",
        "aparicoes = Counter(meu_texto.split()) \n",
        "aparicoes"
      ],
      "execution_count": 101,
      "outputs": [
        {
          "output_type": "execute_result",
          "data": {
            "text/plain": [
              "Counter({'aqui': 1,\n",
              "         'com': 1,\n",
              "         'digitar': 1,\n",
              "         'do': 1,\n",
              "         'e': 2,\n",
              "         'em': 1,\n",
              "         'esse': 1,\n",
              "         'exemplo': 1,\n",
              "         'jeito': 1,\n",
              "         'lista': 1,\n",
              "         'pode': 2,\n",
              "         'por': 1,\n",
              "         'qualquer': 1,\n",
              "         'que': 1,\n",
              "         'quebrar': 1,\n",
              "         'quiser': 1,\n",
              "         'texto': 2,\n",
              "         'todo': 1,\n",
              "         'transformar': 1,\n",
              "         'voce': 1,\n",
              "         'você': 1})"
            ]
          },
          "metadata": {},
          "execution_count": 101
        }
      ]
    },
    {
      "cell_type": "markdown",
      "metadata": {
        "id": "krunLF6FsWXc"
      },
      "source": [
        "# **Testando o uso de várias coleções**"
      ]
    },
    {
      "cell_type": "code",
      "metadata": {
        "id": "5yImofjysalQ"
      },
      "source": [
        "texto1 = \"\"\"\n",
        "Antes de tudo, você conhece o Design Centrado no Usuário ou DCU? Essa ideia está se tornando bem popular e é muito importante compreendê-la antes de montar um Mapa de Empatia. O conceito de DCU se refere à ação de colocarmos o usuário, que é o consumidor, no centro do desenvolvimento e melhorias de qualquer produto ou serviço. Dessa forma, as chances de gerarem resultados positivos são aumentadas, visto que tudo é feito pensando nas necessidades do usuário e em como um produto ou serviço podem agregar valor na vida dele.\n",
        "\n",
        "Portanto, para que o público-alvo possa ser o centro da tomada de decisões, é preciso que a equipe consiga “calçar os sapatos” dos usuários, ou seja, precisamos nos colocar no lugar dessas pessoas. Por conta disso, a empatia é uma grande aliada nesse processo!\n",
        "\"\"\""
      ],
      "execution_count": 103,
      "outputs": []
    },
    {
      "cell_type": "code",
      "metadata": {
        "id": "GtLZDIvxssp6"
      },
      "source": [
        "texto2 = \"\"\"\n",
        "Os rumores entre os criadores de conteúdo e desenvolvedores é que a plataforma vai investir ainda mais no público dos creators desses vídeos virais.\n",
        "\n",
        "Caso você não saiba, o Reels foi lançado no Instagram em junho de 2020, e a sua proposta é a criação de vídeos curtos e virais, bem parecido - quiçá idêntico - à proposta do seu rival, o TikTok. Porém, o que o Instagram ainda não faz, e o seu concorrente sim, é pagar os usuários que divulgam o seu aplicativo.\n",
        "\n",
        "E não é só o TikTok que está famoso por oferecer bônus em dinheiro para os seus usuários, a plataforma Kwai, muito semelhante a ele, atua da mesma forma. Os usuários contam com um código, como se fosse de vendedor, para que outros usuários se cadastrem na plataforma a partir dele, e assim é possível acumular pontos que são retirados em dinheiro. Porém, não é dessa forma que o Instagram aparentemente vai começar a monetizar os vídeos do Reels.\n",
        "\"\"\""
      ],
      "execution_count": 104,
      "outputs": []
    },
    {
      "cell_type": "code",
      "metadata": {
        "id": "XIglg8Gqszmh"
      },
      "source": [
        "def analisa_frequencia_de_letras(texto):\n",
        "  aparicoes = Counter(texto1.lower())\n",
        "  total_de_caracteres = sum(aparicoes.values())\n",
        "\n",
        "  proporcoes = [(letra, frequencia / total_de_caracteres) for letra, frequencia in aparicoes.items()]\n",
        "  proporcoes = Counter(dict(proporcoes))\n",
        "  mais_comum = proporcoes.most_common(10)\n",
        "  for caractere, proporcoes in mais_comum:\n",
        "    print(\"{} => {:.2f}%\".format(caractere, proporcoes * 100))"
      ],
      "execution_count": 123,
      "outputs": []
    },
    {
      "cell_type": "code",
      "metadata": {
        "colab": {
          "base_uri": "https://localhost:8080/"
        },
        "id": "8kG2BMC3s46p",
        "outputId": "71eae1d4-c432-4dd6-ecc9-343a56738cc6"
      },
      "source": [
        "analisa_frequencia_de_letras(texto1)"
      ],
      "execution_count": 124,
      "outputs": [
        {
          "output_type": "stream",
          "name": "stdout",
          "text": [
            "  => 16.84%\n",
            "o => 10.51%\n",
            "e => 9.49%\n",
            "a => 8.10%\n",
            "s => 7.85%\n",
            "d => 5.06%\n",
            "r => 5.06%\n",
            "u => 4.30%\n",
            "n => 4.05%\n",
            "i => 3.92%\n"
          ]
        }
      ]
    },
    {
      "cell_type": "code",
      "metadata": {
        "colab": {
          "base_uri": "https://localhost:8080/"
        },
        "id": "zaAtmVqSvnPh",
        "outputId": "59464efa-b891-48d7-8d67-f31daf217c5f"
      },
      "source": [
        "analisa_frequencia_de_letras(texto2)"
      ],
      "execution_count": 125,
      "outputs": [
        {
          "output_type": "stream",
          "name": "stdout",
          "text": [
            "  => 16.84%\n",
            "o => 10.51%\n",
            "e => 9.49%\n",
            "a => 8.10%\n",
            "s => 7.85%\n",
            "d => 5.06%\n",
            "r => 5.06%\n",
            "u => 4.30%\n",
            "n => 4.05%\n",
            "i => 3.92%\n"
          ]
        }
      ]
    },
    {
      "cell_type": "code",
      "metadata": {
        "id": "mkOaYjeEwRgh"
      },
      "source": [
        ""
      ],
      "execution_count": null,
      "outputs": []
    }
  ]
}